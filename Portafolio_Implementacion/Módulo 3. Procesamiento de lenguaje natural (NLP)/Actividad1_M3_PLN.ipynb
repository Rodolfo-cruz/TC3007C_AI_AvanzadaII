{
 "cells": [
  {
   "cell_type": "markdown",
   "metadata": {},
   "source": [
    "**Rodolfo Jesús Cruz Rebollar**\n",
    "\n",
    "**A01368326**\n",
    "\n",
    "**Grupo 101**"
   ]
  },
  {
   "cell_type": "code",
   "execution_count": 1,
   "metadata": {
    "execution": {
     "iopub.execute_input": "2024-09-20T05:03:33.581737Z",
     "iopub.status.busy": "2024-09-20T05:03:33.581286Z",
     "iopub.status.idle": "2024-09-20T05:03:37.915743Z",
     "shell.execute_reply": "2024-09-20T05:03:37.914268Z",
     "shell.execute_reply.started": "2024-09-20T05:03:33.581695Z"
    }
   },
   "outputs": [],
   "source": [
    "\n",
    "!pip freeze > kaggle_image_requirements.txt"
   ]
  },
  {
   "cell_type": "markdown",
   "metadata": {},
   "source": [
    "# Lea y pre-procese el dataset Enron\n",
    "\n",
    "Lea el dataset Enron y obtenga una idea de los datos imprimiendo mensajes de muestra en la pantalla\n"
   ]
  },
  {
   "cell_type": "code",
   "execution_count": 2,
   "metadata": {
    "execution": {
     "iopub.execute_input": "2024-09-20T05:03:53.176186Z",
     "iopub.status.busy": "2024-09-20T05:03:53.175420Z",
     "iopub.status.idle": "2024-09-20T05:04:20.385973Z",
     "shell.execute_reply": "2024-09-20T05:04:20.384646Z",
     "shell.execute_reply.started": "2024-09-20T05:03:53.176137Z"
    }
   },
   "outputs": [
    {
     "name": "stdout",
     "output_type": "stream",
     "text": [
      "¡Se cargaron exitosamente 517401 filas and 2 columnas!\n",
      "                       file                                            message\n",
      "0     allen-p/_sent_mail/1.  Message-ID: <18782981.1075855378110.JavaMail.e...\n",
      "1    allen-p/_sent_mail/10.  Message-ID: <15464986.1075855378456.JavaMail.e...\n",
      "2   allen-p/_sent_mail/100.  Message-ID: <24216240.1075855687451.JavaMail.e...\n",
      "3  allen-p/_sent_mail/1000.  Message-ID: <13505866.1075863688222.JavaMail.e...\n",
      "4  allen-p/_sent_mail/1001.  Message-ID: <30922949.1075863688243.JavaMail.e...\n"
     ]
    }
   ],
   "source": [
    "import numpy as np # linear algebra\n",
    "import pandas as pd # procesando datos, CSV file I/O (e.g. pd.read_csv)\n",
    "\n",
    "# Input data files disponibles en el directorio \"../input/\".\n",
    "filepath = \"/kaggle/input/spam-email/emails.csv\"\n",
    "filepath = \"/kaggle/input/enron-email-dataset/emails.csv\"\n",
    "\n",
    "# Leer los datos enron en un pandas.DataFrame llamada emails\n",
    "emails = pd.read_csv(filepath)\n",
    "\n",
    "print(\"¡Se cargaron exitosamente {} filas and {} columnas!\".format(emails.shape[0], emails.shape[1]))\n",
    "print(emails.head())"
   ]
  },
  {
   "cell_type": "code",
   "execution_count": 3,
   "metadata": {
    "execution": {
     "iopub.execute_input": "2024-09-20T05:05:37.376414Z",
     "iopub.status.busy": "2024-09-20T05:05:37.375929Z",
     "iopub.status.idle": "2024-09-20T05:05:37.387357Z",
     "shell.execute_reply": "2024-09-20T05:05:37.386080Z",
     "shell.execute_reply.started": "2024-09-20T05:05:37.376350Z"
    }
   },
   "outputs": [
    {
     "data": {
      "text/plain": [
       "\"Message-ID: <15464986.1075855378456.JavaMail.evans@thyme>\\nDate: Fri, 4 May 2001 13:51:00 -0700 (PDT)\\nFrom: phillip.allen@enron.com\\nTo: john.lavorato@enron.com\\nSubject: Re:\\nMime-Version: 1.0\\nContent-Type: text/plain; charset=us-ascii\\nContent-Transfer-Encoding: 7bit\\nX-From: Phillip K Allen\\nX-To: John J Lavorato <John J Lavorato/ENRON@enronXgate@ENRON>\\nX-cc: \\nX-bcc: \\nX-Folder: \\\\Phillip_Allen_Jan2002_1\\\\Allen, Phillip K.\\\\'Sent Mail\\nX-Origin: Allen-P\\nX-FileName: pallen (Non-Privileged).pst\\n\\nTraveling to have a business meeting takes the fun out of the trip.  Especially if you have to prepare a presentation.  I would suggest holding the business plan meetings here then take a trip without any formal business meetings.  I would even try and get some honest opinions on whether a trip is even desired or necessary.\\n\\nAs far as the business meetings, I think it would be more productive to try and stimulate discussions across the different groups about what is working and what is not.  Too often the presenter speaks and the others are quiet just waiting for their turn.   The meetings might be better if held in a round table discussion format.  \\n\\nMy suggestion for where to go is Austin.  Play golf and rent a ski boat and jet ski's.  Flying somewhere takes too much time.\\n\""
      ]
     },
     "execution_count": 3,
     "metadata": {},
     "output_type": "execute_result"
    }
   ],
   "source": [
    "# 1) DESPLIEGUE CON MAYOR DETALLE EL SEGUNDO EMAIL \n",
    "\n",
    "\"\"\"mostrar datalles del mensaje escrito en el segundo email que corresponde a la fila con índice 1\n",
    "del dataframe\"\"\"\n",
    "\n",
    "# En la columna \"message\" se encuentran los detalles del email\n",
    "\n",
    "emails.loc[1, \"message\"]"
   ]
  },
  {
   "cell_type": "markdown",
   "metadata": {},
   "source": [
    "Separar los encabezados (headers) de los cuerpos del mensaje"
   ]
  },
  {
   "cell_type": "code",
   "execution_count": 4,
   "metadata": {
    "execution": {
     "iopub.execute_input": "2024-09-20T05:12:53.931903Z",
     "iopub.status.busy": "2024-09-20T05:12:53.931475Z",
     "iopub.status.idle": "2024-09-20T05:14:09.433225Z",
     "shell.execute_reply": "2024-09-20T05:14:09.431914Z",
     "shell.execute_reply.started": "2024-09-20T05:12:53.931864Z"
    }
   },
   "outputs": [
    {
     "name": "stdout",
     "output_type": "stream",
     "text": [
      "¡Se recuperó existosamente el cuerpo del mensaje a partir de los e-mails!\n"
     ]
    }
   ],
   "source": [
    "import email\n",
    "\n",
    "def extract_messages(df):\n",
    "    messages = []\n",
    "    for item in df[\"message\"]:\n",
    "        # Regresar una estructura de objeto de mensaje a partir de un string\n",
    "        e = email.message_from_string(item)    \n",
    "        # obtener el cuerpo del mensaje  \n",
    "        message_body = e.get_payload()\n",
    "        messages.append(message_body)\n",
    "    print(\"¡Se recuperó existosamente el cuerpo del mensaje a partir de los e-mails!\")\n",
    "    return messages\n",
    "\n",
    "#2) EXTRAIGA LOS MENSAJES DE LOS EMAILS EN UNA LISTA LLAMADA bodies, usando la función anterior\n",
    "\n",
    "bodies = extract_messages(emails)"
   ]
  },
  {
   "cell_type": "code",
   "execution_count": 5,
   "metadata": {
    "execution": {
     "iopub.execute_input": "2024-09-20T05:14:22.976974Z",
     "iopub.status.busy": "2024-09-20T05:14:22.976578Z",
     "iopub.status.idle": "2024-09-20T05:14:22.982759Z",
     "shell.execute_reply": "2024-09-20T05:14:22.981356Z",
     "shell.execute_reply.started": "2024-09-20T05:14:22.976938Z"
    }
   },
   "outputs": [],
   "source": [
    "# Importar la librería random\n",
    "\n",
    "import random"
   ]
  },
  {
   "cell_type": "code",
   "execution_count": 6,
   "metadata": {
    "execution": {
     "iopub.execute_input": "2024-09-20T05:14:49.693189Z",
     "iopub.status.busy": "2024-09-20T05:14:49.692745Z",
     "iopub.status.idle": "2024-09-20T05:14:49.717742Z",
     "shell.execute_reply": "2024-09-20T05:14:49.716730Z",
     "shell.execute_reply.started": "2024-09-20T05:14:49.693147Z"
    }
   },
   "outputs": [
    {
     "data": {
      "text/html": [
       "<div>\n",
       "<style scoped>\n",
       "    .dataframe tbody tr th:only-of-type {\n",
       "        vertical-align: middle;\n",
       "    }\n",
       "\n",
       "    .dataframe tbody tr th {\n",
       "        vertical-align: top;\n",
       "    }\n",
       "\n",
       "    .dataframe thead th {\n",
       "        text-align: right;\n",
       "    }\n",
       "</style>\n",
       "<table border=\"1\" class=\"dataframe\">\n",
       "  <thead>\n",
       "    <tr style=\"text-align: right;\">\n",
       "      <th></th>\n",
       "      <th>Email message</th>\n",
       "    </tr>\n",
       "  </thead>\n",
       "  <tbody>\n",
       "    <tr>\n",
       "      <th>0</th>\n",
       "      <td>No, I just looked it up in Bankers Trust's financial statement filed with the \\nSEC on their website, FreeEdgar.\\n\\n\\n\\n\\tBernice Rodriguez\\n\\t02/14/2001 12:13 PM\\n\\t\\t\\n\\t\\t To: Tana Jones/HOU/ECT@ECT\\n\\t\\t cc: \\n\\t\\t Subject: Re: Deutsche Bank AG/Bankers Trust Company\\n\\nTana,,\\n\\nDoes Legal h...</td>\n",
       "    </tr>\n",
       "    <tr>\n",
       "      <th>1</th>\n",
       "      <td>New Associate Orientation\\n \\n As new participants within the Associate Program, I would like to invite you \\nto the New Associate Orientation beginning Monday, February 12 and ending on \\nWednesday, February 28.  As a result of the two and a half week orientation \\nyou will come away with bette...</td>\n",
       "    </tr>\n",
       "    <tr>\n",
       "      <th>2</th>\n",
       "      <td>The report named: VaR and Peak Position Report By Trader &lt;http://erv.corp.enron.com/linkFromExcel.asp?report_cd=22&amp;report_name=VaR+and+Peak+Position+Report+By+Trader&amp;category_cd=5&amp;category_name=EAST&amp;toc_hide=1&amp;sTV1=5&amp;TV1Exp=Y&amp;current_efct_date=10/17/2001&gt;, published as of 10/17/2001 is now avail...</td>\n",
       "    </tr>\n",
       "    <tr>\n",
       "      <th>3</th>\n",
       "      <td>http://home.ets.enron.com/dms/ViewReport.asp</td>\n",
       "    </tr>\n",
       "    <tr>\n",
       "      <th>4</th>\n",
       "      <td>I need as close to the exact cost  for both 65,000 and 90,000 MMBtu/d as we can get.  EPFS is going to pay for this and I don't want ETS to fund anything so it's important to give the exact amount you are comfortable with to them the first (and only) time.  Thanks.\\n\\nLorraine\\n\\n -----Original ...</td>\n",
       "    </tr>\n",
       "  </tbody>\n",
       "</table>\n",
       "</div>"
      ],
      "text/plain": [
       "                                                                                                                                                                                                                                                                                                 Email message\n",
       "0  No, I just looked it up in Bankers Trust's financial statement filed with the \\nSEC on their website, FreeEdgar.\\n\\n\\n\\n\\tBernice Rodriguez\\n\\t02/14/2001 12:13 PM\\n\\t\\t\\n\\t\\t To: Tana Jones/HOU/ECT@ECT\\n\\t\\t cc: \\n\\t\\t Subject: Re: Deutsche Bank AG/Bankers Trust Company\\n\\nTana,,\\n\\nDoes Legal h...\n",
       "1  New Associate Orientation\\n \\n As new participants within the Associate Program, I would like to invite you \\nto the New Associate Orientation beginning Monday, February 12 and ending on \\nWednesday, February 28.  As a result of the two and a half week orientation \\nyou will come away with bette...\n",
       "2  The report named: VaR and Peak Position Report By Trader <http://erv.corp.enron.com/linkFromExcel.asp?report_cd=22&report_name=VaR+and+Peak+Position+Report+By+Trader&category_cd=5&category_name=EAST&toc_hide=1&sTV1=5&TV1Exp=Y&current_efct_date=10/17/2001>, published as of 10/17/2001 is now avail...\n",
       "3                                                                                                                                                                                                                                                                 http://home.ets.enron.com/dms/ViewReport.asp\n",
       "4  I need as close to the exact cost  for both 65,000 and 90,000 MMBtu/d as we can get.  EPFS is going to pay for this and I don't want ETS to fund anything so it's important to give the exact amount you are comfortable with to them the first (and only) time.  Thanks.\\n\\nLorraine\\n\\n -----Original ..."
      ]
     },
     "execution_count": 6,
     "metadata": {},
     "output_type": "execute_result"
    }
   ],
   "source": [
    "##3) GENERE UN DATAFRAME LLAMADO bodies_df UTILIZANDO LA BIBLIOTECA PANDAS, EL CUAL DEBE CONTENER UNA MUESTRA ALEATORIA DE 10,000 ELEMENTOS DE LA LISTA BODIES. \n",
    "##USE LA FUNCIÓN RANDOM.SAMPLE PARA OBTENER LA MUESTRA. ESTO PERMITE CREAR NUESTRO PROPIO DATASET\n",
    "\n",
    "bodies_df = pd.DataFrame(random.sample(bodies, k = 10000), columns = [\"Email message\"])\n",
    "\n",
    "#expandir las opciones de display default de pandas para hacer los emails más claramente visibles cuando se impriman\n",
    "pd.set_option('display.max_colwidth', 300)\n",
    "\n",
    "bodies_df.head() # podrían hacer print(bodies_df.head()), pero Jupyter despliega más amigable for pandas DataFrames"
   ]
  },
  {
   "cell_type": "markdown",
   "metadata": {},
   "source": [
    "El siguiente código (comentado) es posiblemente la forma más al estilo Python de lograr la extracción de los cuerpos de los mensajes. Tiene solo 2 líneas y logra el mismo resultado. Sin embargo, creemos que el código anterior es más transparente con respecto a cómo se lleva a cabo el procesamiento y, como tal, lo dejamos aquí para los expertos en Python si así lo prefieren."
   ]
  },
  {
   "cell_type": "code",
   "execution_count": 6,
   "metadata": {},
   "outputs": [],
   "source": [
    "#messages = emails[\"message\"].apply(email.message_from_string)\n",
    "#bodies_df = messages.apply(lambda x: x.get_payload()).sample(10000)"
   ]
  },
  {
   "cell_type": "markdown",
   "metadata": {},
   "source": [
    "# Lea y Preprocese el Corpus de Email Fraudulent \"419\""
   ]
  },
  {
   "cell_type": "code",
   "execution_count": 7,
   "metadata": {
    "execution": {
     "iopub.execute_input": "2024-09-20T05:15:46.471828Z",
     "iopub.status.busy": "2024-09-20T05:15:46.471273Z",
     "iopub.status.idle": "2024-09-20T05:15:46.714935Z",
     "shell.execute_reply": "2024-09-20T05:15:46.713356Z",
     "shell.execute_reply.started": "2024-09-20T05:15:46.471773Z"
    }
   },
   "outputs": [],
   "source": [
    "filepath = \"../input/fraudulent-email-corpus/fradulent_emails.txt\"\n",
    "with open(filepath, 'r',encoding=\"latin1\") as file:\n",
    "    data = file.read()"
   ]
  },
  {
   "cell_type": "markdown",
   "metadata": {},
   "source": [
    "Imprima los primeros 20000 caracteres de read file string (esto nos da unos pocos emails), y dése cuenta del keyword `From r` cercano al inicio de cada encabezado de email"
   ]
  },
  {
   "cell_type": "code",
   "execution_count": 8,
   "metadata": {
    "execution": {
     "iopub.execute_input": "2024-09-20T05:15:56.558071Z",
     "iopub.status.busy": "2024-09-20T05:15:56.557665Z",
     "iopub.status.idle": "2024-09-20T05:15:56.563885Z",
     "shell.execute_reply": "2024-09-20T05:15:56.562699Z",
     "shell.execute_reply.started": "2024-09-20T05:15:56.558032Z"
    }
   },
   "outputs": [
    {
     "name": "stdout",
     "output_type": "stream",
     "text": [
      "From r  Wed Oct 30 21:41:56 2002\n",
      "Return-Path: <james_ngola2002@maktoob.com>\n",
      "X-Sieve: cmu-sieve 2.0\n",
      "Return-Path: <james_ngola2002@maktoob.com>\n",
      "Message-Id: <200210310241.g9V2fNm6028281@cs.CU>\n",
      "From: \"MR. JAMES NGOLA.\" <james_ngola2002@maktoob.com>\n",
      "Reply-To: james_ngola2002@maktoob.com\n",
      "To: webmaster@aclweb.org\n",
      "Date: Thu, 31 Oct 2002 02:38:20 +0000\n",
      "Subject: URGENT BUSINESS ASSISTANCE AND PARTNERSHIP\n",
      "X-Mailer: Microsoft Outlook Express 5.00.2919.6900 DM\n",
      "MIME-Version: 1.0\n",
      "Content-Type: text/plain; charset=\"us-ascii\"\n",
      "Content-Transfer-Encoding: 8bit\n",
      "X-MIME-Autoconverted: from quoted-printable to 8bit by sideshowmel.si.UM id g9V2foW24311\n",
      "Status: O\n",
      "\n",
      "FROM:MR. JAMES NGOLA.\n",
      "CONFIDENTIAL TEL: 233-27-587908.\n",
      "E-MAIL: (james_ngola2002@maktoob.com).\n",
      "\n",
      "URGENT BUSINESS ASSISTANCE AND PARTNERSHIP.\n",
      "\n",
      "\n",
      "DEAR FRIEND,\n",
      "\n",
      "I AM ( DR.) JAMES NGOLA, THE PERSONAL ASSISTANCE TO THE LATE CONGOLESE (PRESIDENT LAURENT KABILA) WHO WAS ASSASSINATED BY HIS BODY GUARD ON 16TH JAN. 2001.\n",
      "\n",
      "\n",
      "THE INCIDENT OCCURRED IN OUR PRESENCE WHILE WE WERE HOLDING MEETING WITH HIS EXCELLENCY OVER THE FINANCIAL RETURNS FROM THE DIAMOND SALES IN THE AREAS CONTROLLED BY (D.R.C.) DEMOCRATIC REPUBLIC OF CONGO FORCES AND THEIR FOREIGN ALLIES ANGOLA AND ZIMBABWE, HAVING RECEIVED THE PREVIOUS DAY (USD$100M) ONE HUNDRED MILLION UNITED STATES DOLLARS, CASH IN THREE DIPLOMATIC BOXES ROUTED THROUGH ZIMBABWE.\n",
      "\n",
      "MY PURPOSE OF WRITING YOU THIS LETTER IS TO SOLICIT FOR YOUR ASSISTANCE AS TO BE A COVER TO THE FUND AND ALSO COLLABORATION IN MOVING THE SAID FUND INTO YOUR BANK ACCOUNT THE SUM OF (USD$25M) TWENTY FIVE MILLION UNITED STATES DOLLARS ONLY, WHICH I DEPOSITED WITH A SECURITY COMPANY IN GHANA, IN A DIPLOMATIC BOX AS GOLDS WORTH (USD$25M) TWENTY FIVE MILLION UNITED STATES DOLLARS ONLY FOR SAFE KEEPING IN A SECURITY VAULT FOR ANY FURTHER INVESTMENT PERHAPS IN YOUR COUNTRY. \n",
      "\n",
      "YOU WERE INTRODUCED TO ME BY A RELIABLE FRIEND OF MINE WHO IS A TRAVELLER,AND ALSO A MEMBER OF CHAMBER OF COMMERCE AS A RELIABLE AND TRUSTWORTHY PERSON WHOM I CAN RELY ON AS FOREIGN PARTNER, EVEN THOUGH THE NATURE OF THE TRANSACTION WAS NOT REVEALED TO HIM FOR SECURITY REASONS.\n",
      "\n",
      "\n",
      "THE (USD$25M) WAS PART OF A PROCEEDS FROM DIAMOND TRADE MEANT FOR THE LATE PRESIDENT LAURENT KABILA WHICH WAS DELIVERED THROUGH ZIMBABWE IN DIPLOMATIC BOXES. THE BOXES WERE KEPT UNDER MY CUSTODY BEFORE THE SAD EVENT THAT TOOK THE LIFE OF (MR. PRESIDENT).THE CONFUSION THAT ENSUED AFTER THE ASSASSINATION AND THE SPORADIC SHOOTING AMONG THE FACTIONS, I HAVE TO RUN AWAY FROM THE COUNTRY FOR MY DEAR LIFE AS I AM NOT A SOLDIER BUT A CIVIL SERVANT I CROSSED RIVER CONGO TO OTHER SIDE OF CONGO LIBREVILLE FROM THERE I MOVED TO THE THIRD COUNTRY GHANA WHERE I AM PRESENTLY TAKING REFUGE. \n",
      "\n",
      "AS A MATTER OF FACT, WHAT I URGENTLY NEEDED FROM YOU IS YOUR ASSISTANCE IN MOVING THIS MONEY INTO YOUR ACCOUNT IN YOUR COUNTRY FOR INVESTMENT WITHOUT RAISING EYEBROW. FOR YOUR ASSISTANCE I WILL GIVE YOU 20% OF THE TOTAL SUM AS YOUR OWN SHARE WHEN THE MONEY GETS TO YOUR ACCOUNT, WHILE 75% WILL BE FOR ME, OF WHICH WITH YOUR KIND ADVICE I HOPE TO INVEST IN PROFITABLE VENTURE IN YOUR COUNTRY IN OTHER TO SETTLE DOWN FOR MEANINGFUL LIFE, AS I AM TIRED OF LIVING IN A WAR ENVIRONMENT. \n",
      "\n",
      "THE REMAINING 5% WILL BE USED TO OFFSET ANY COST INCURRED IN THE CAUSE OF MOVING THE MONEY TO YOUR ACCOUNT. IF THE PROPOSAL IS ACCEPTABLE TO YOU PLEASE CONTACT ME IMMEDIATELY THROUGH THE ABOVE TELEPHONE AND E-MAIL, TO ENABLE ME ARRANGE FACE TO FACE MEETING WITH YOU IN GHANA FOR THE CLEARANCE OF THE FUNDS BEFORE TRANSFRING IT TO YOUR BANK ACCOUNT AS SEEING IS BELIEVING. \n",
      "\n",
      "FINALLY, IT IS IMPORTANT ALSO THAT I LET YOU UNDERSTAND THAT THERE IS NO RISK INVOLVED WHATSOEVER AS THE MONEY HAD NO RECORD IN KINSHASA FOR IT WAS MEANT FOR THE PERSONAL USE OF (MR. PRESIDEND ) BEFORE THE NEFARIOUS INCIDENT OCCURRED, AND ALSO I HAVE ALL THE NECESSARY DOCUMENTS AS REGARDS TO THE FUNDS INCLUDING THE (CERTIFICATE OF DEPOSIT), AS I AM THE DEPOSITOR OF THE CONSIGNMENT.\n",
      "\n",
      "\n",
      "LOOKING FORWARD TO YOUR URGENT RESPONSE.\n",
      "\n",
      "YOUR SINCERELY,\n",
      "\n",
      "MR. JAMES NGOLA. \n",
      "\n",
      "\n",
      "\n",
      "\n",
      "\n",
      "\n",
      "\n",
      "\n",
      "\n",
      "\n",
      "From r  Thu Oct 31 08:11:39 2002\n",
      "Return-Path: <bensul2004nng@spinfinder.com>\n",
      "X-Sieve: cmu-sieve 2.0\n",
      "Return-Path: <bensul2004nng@spinfinder.com>\n",
      "Message-Id: <200210311310.g9VDANt24674@bloodwork.mr.itd.UM>\n",
      "From: \"Mr. Ben Suleman\" <bensul2004nng@spinfinder.com>\n",
      "Date: Thu, 31 Oct 2002 05:10:00\n",
      "To: R@M\n",
      "Subject: URGENT ASSISTANCE /RELATIONSHIP (P)\n",
      "MIME-Version: 1.0\n",
      "Content-Type: text/plain;charset=\"iso-8859-1\"\n",
      "Content-Transfer-Encoding: 7bit\n",
      "Status: O\n",
      "\n",
      "Dear Friend,\n",
      "\n",
      "I am Mr. Ben Suleman a custom officer and work as Assistant controller of the Customs and Excise department Of the Federal Ministry of Internal Affairs stationed at the Murtala Mohammed International Airport, Ikeja, Lagos-Nigeria.\n",
      "\n",
      "After the sudden death of the former Head of state of Nigeria General Sanni Abacha on June 8th 1998 his aides and immediate members of his family were arrested while trying to escape from Nigeria in a Chartered jet to Saudi Arabia with 6 trunk boxes Marked \"Diplomatic Baggage\". Acting on a tip-off as they attempted to board the Air Craft,my officials carried out a thorough search on the air craft and discovered that the 6 trunk boxes contained foreign currencies amounting to US$197,570,000.00(One Hundred and  Ninety-Seven Million Five Hundred Seventy Thousand United States Dollars).\n",
      "\n",
      "I declared only (5) five boxes to the government and withheld one (1) in my custody containing the sum of (US$30,000,000.00) Thirty Million United States Dollars Only, which has been disguised to prevent their being discovered during transportation process.Due to several media reports on the late head of state about all the money him and his co-government officials stole from our government treasury amounting\n",
      "to US$55 Billion Dollars (ref:ngrguardiannews.com) of July 2nd 1999. Even the London times of July 1998 reported that General Abacha has over US$3.Billion dollars in one account overseas. We decided to conceal this one (1)box till the situation is calm and quite on the issue. The box was thus deposited with a security company here in Nigeria and tagged as \"Precious Stones and Jewellry\" in other that its\n",
      "content will not be discovered. Now that all is calm, we (myself and two of my colleagues in the operations team) are now ready to move this box out of the country through a diplomatic arrangement which is the safest means. \n",
      "\n",
      "However as government officials the Civil Service Code of Conduct does not allow us by law to operate any foreign account or own foreign investment and the amount of money that can be found in our account\n",
      "cannot be more than our salary on the average, thus our handicapp and our need for your assistance to help collect and keep safely in your account this money.\n",
      "\n",
      "Therefore we want you to assist us in moving this money out of Nigeria. We shall definitely compensate you handsomely for the assistance. We can do this by instructing the Security Company here in Nigeria to\n",
      "move the consignment to their affiliate branch office outside Nigeria through diplomatic means and the consignment will be termed as Precious Stones and Jewelleries\" which you bought during your visit to Nigeria and is being transfered to your country from here for safe keeping. Then we can arrange to meet at the destination country to take the delivery of the consignment. You will thereafter open an account there and lodge the Money there and gradually instruct remittance to your Country. \n",
      "\n",
      "This business is 100% risk free for you so please treat this matter with utmost confidentiality .If you indicate your interest to assist us please just e-mail me for more Explanation on how we plan to execute the transaction.\n",
      "\n",
      "Expecting your response urgently.\n",
      "\n",
      "Best regards,\n",
      "\n",
      "Mr. Ben Suleman\n",
      "\n",
      "From r  Thu Oct 31 17:27:16 2002\n",
      "Return-Path: <obong_715@epatra.com>\n",
      "X-Sieve: cmu-sieve 2.0\n",
      "Return-Path: <obong_715@epatra.com>\n",
      "Message-Id: <200210312227.g9VMQvDj017948@bluewhale.cs.CU>\n",
      "From: \"PRINCE OBONG ELEME\" <obong_715@epatra.com>\n",
      "Reply-To: obong_715@epatra.com\n",
      "To: webmaster@aclweb.org\n",
      "Date: Thu, 31 Oct 2002 22:17:55 +0100\n",
      "Subject: GOOD DAY TO YOU\n",
      "X-Mailer: Microsoft Outlook Express 5.00.2919.6900DM\n",
      "MIME-Version: 1.0\n",
      "Content-Type: text/plain; charset=\"us-ascii\"\n",
      "Content-Transfer-Encoding: 8bit\n",
      "X-MIME-Autoconverted: from quoted-printable to 8bit by sideshowmel.si.UM id g9VMRBW20642\n",
      "Status: RO\n",
      "\n",
      "FROM HIS ROYAL MAJESTY (HRM) CROWN RULER OF ELEME KINGDOM \n",
      "CHIEF DANIEL ELEME, PHD, EZE 1 OF ELEME.E-MAIL \n",
      "ADDRESS:obong_715@epatra.com  \n",
      "\n",
      "ATTENTION:PRESIDENT,CEO Sir/ Madam. \n",
      "\n",
      "This letter might surprise you because we have met\n",
      "neither in person nor by correspondence. But I believe\n",
      "it is one day that you got to know somebody either in\n",
      "physical or through correspondence. \n",
      "\n",
      "I got your contact through discreet inquiry from the\n",
      "chambers of commerce and industry of your country on\n",
      "the net, you and your organization were revealed as\n",
      "being quite astute in private entrepreneurship, one\n",
      "has no doubt in your ability to handle a financialbusiness transaction. \n",
      "\n",
      "However, I am the first son of His Royal\n",
      "majesty,Obong.D. Eleme , and the traditional Ruler of\n",
      "Eleme Province in the oil producing area of River\n",
      "State of Nigeria. I am making this contact to you in\n",
      "respect of US$60,000,000.00 (Sixty Million United\n",
      "State Dollars), which I inherited, from my latefather. \n",
      "\n",
      "This money was accumulated from royalties paid to my\n",
      "father as compensation by the oil firms located in our\n",
      "area as a result of oil presence on our land, which\n",
      "hamper agriculture, which is our major source oflivelihood. \n",
      "\n",
      "Unfortunately my father died from protracted\n",
      "diabetes.But before his death he called my attention\n",
      "and informed me that he lodged some funds on a two\n",
      "boxes with a security firm with an open beneficiary\n",
      "status. The lodgment security code number was also\n",
      "revealed to me, he then advised me to look for a\n",
      "reliable business partner abroad, that will assist me\n",
      "in investing the money in a lucrative business as a\n",
      "result of economic instability in Nigeria. So this is\n",
      "the main reason why I am contacting you for us to move\n",
      "this money from the security firm to any Country of\n",
      "your choice for investment purpose. \n",
      "\n",
      "So I will like you to be the ultimate beneficiary, so\n",
      "that the funds can be moved in your name and\n",
      "particulars to any Country of your choice where it\n",
      "will be claimed and invested. Hence my father have had\n",
      "intimated the security firm personnel that the\n",
      "beneficiary of the box is his foreign partner whose\n",
      "particulars will be forwarded to the firm when due. \n",
      "\n",
      "But I will guide you Accordingly. As soon as the funds\n",
      "reach, I will then come over to meet you in person, so\n",
      "that we can discuss physically on investment\n",
      "potentials. Based on this assistance my Family and I\n",
      "have unanimously decided to give you 30% of the total\n",
      "money, 5% for Charity home, 10% for expenses, which\n",
      "may arise during this transaction, Fax and phone bills\n",
      "inclusive. The balance of 55% you will invest andmanaged for my Family. \n",
      "\n",
      "I hereby guarantee you that this is not government\n",
      "money, it is not drug money and it is not money from\n",
      "arms deal. Though you have to maintain high degree of\n",
      "confidentiality on this matter. I will give more\n",
      "details about the proceedings of this transaction as\n",
      "soon as I receive your favorable reply. \n",
      "\n",
      "Please reply to my Email Address:obong_715@epatra.com\n",
      "I hope this will be the beginning of a prosperous\n",
      "relationship between my family and your family. \n",
      "\n",
      "Nevertheless if you are for any reason not interested,\n",
      "kindly inform me immediately so that I will look foranother contact. \n",
      "\n",
      "I am waiting for your quick response. \n",
      "\n",
      "Yours faithfully, \n",
      "\n",
      "Prince Obong Abbot \n",
      "\n",
      "\n",
      "From r  Thu Oct 31 17:53:56 2002\n",
      "Return-Path: <obong_715@epatra.com>\n",
      "X-Sieve: cmu-sieve 2.0\n",
      "Return-Path: <obong_715@epatra.com>\n",
      "Message-Id: <200210312253.g9VMreDj018024@bluewhale.cs.CU>\n",
      "From: \"PRINCE OBONG ELEME\" <obong_715@epatra.com>\n",
      "Date: Thu, 31 Oct 2002 22:44:20\n",
      "To: webmaster@aclweb.org\n",
      "Subject: GOOD DAY TO YOU\n",
      "MIME-Version: 1.0\n",
      "Content-Type: text/plain;charset=\"iso-8859-1\"\n",
      "Content-Transfer-Encoding: 7bit\n",
      "Status: RO\n",
      "\n",
      "FROM HIS ROYAL MAJESTY (HRM) CROWN RULER OF ELEME KINGDOM \n",
      "CHIEF DANIEL ELEME, PHD, EZE 1 OF ELEME.E-MAIL \n",
      "ADDRESS:obong_715@epatra.com  \n",
      "\n",
      "ATTENTION:PRESIDENT,CEO Sir/ Madam. \n",
      "\n",
      "This letter might surprise you because we have met\n",
      "neither in person nor by correspondence. But I believe\n",
      "it is one day that you got to know somebody either in\n",
      "physical or through correspondence. \n",
      "\n",
      "I got your contact through discreet inquiry from the\n",
      "chambers of commerce and industry of your country on\n",
      "the net, you and your organization were revealed as\n",
      "being quite astute in private entrepreneurship, one\n",
      "has no doubt in your ability to handle a financialbusiness transaction. \n",
      "\n",
      "However, I am the first son of His Royal\n",
      "majesty,Obong.D. Eleme , and the traditional Ruler of\n",
      "Eleme Province in the oil producing area of River\n",
      "State of Nigeria. I am making this contact to you in\n",
      "respect of US$60,000,000.00 (Sixty Million United\n",
      "State Dollars), which I inherited, from my latefather. \n",
      "\n",
      "This money was accumulated from royalties paid to my\n",
      "father as compensation by the oil firms located in our\n",
      "area as a result of oil presence on our land, which\n",
      "hamper agriculture, which is our major source oflivelihood. \n",
      "\n",
      "Unfortunately my father died from protracted\n",
      "diabetes.But before his death he called my attention\n",
      "and informed me that he lodged some funds on a two\n",
      "boxes with a security firm with an open beneficiary\n",
      "status. The lodgment security code number was also\n",
      "revealed to me, he then advised me to look for a\n",
      "reliable business partner abroad, that will assist me\n",
      "in investing the money in a lucrative business as a\n",
      "result of economic instability in Nigeria. So this is\n",
      "the main reason why I am contacting you for us to move\n",
      "this money from the security firm to any Country of\n",
      "your choice for investment purpose. \n",
      "\n",
      "So I will like you to be the ultimate beneficiary, so\n",
      "that the funds can be moved in your name and\n",
      "particulars to any Country of your choice where it\n",
      "will be claimed and invested. Hence my father have had\n",
      "intimated the security firm personnel that the\n",
      "beneficiary of the box is his foreign partner whose\n",
      "particulars will be forwarded to the firm when due. \n",
      "\n",
      "But I will guide you Accordingly. As soon as the funds\n",
      "reach, I will then come over to meet you in person, so\n",
      "that we can discuss physically on investment\n",
      "potentials. Based on this assistance my Family and I\n",
      "have unanimously decided to give you 30% of the total\n",
      "money, 5% for Charity home, 10% for expenses, which\n",
      "may arise during this transaction, Fax and phone bills\n",
      "inclusive. The balance of 55% you will invest andmanaged for my Family. \n",
      "\n",
      "I hereby guarantee you that this is not government\n",
      "money, it is not drug money and it is not money from\n",
      "arms deal. Though you have to maintain high degree of\n",
      "confidentiality on this matter. I will give more\n",
      "details about the proceedings of this transaction as\n",
      "soon as I receive your favorable reply. \n",
      "\n",
      "Please reply to my Email Address:obong_715@epatra.com\n",
      "I hope this will be the beginning of a prosperous\n",
      "relationship between my family and your family. \n",
      "\n",
      "Nevertheless if you are for any reason not interested,\n",
      "kindly inform me immediately so that I will look foranother contact. \n",
      "\n",
      "I am waiting for your quick response. \n",
      "\n",
      "Yours faithfully, \n",
      "\n",
      "Prince Obong Eleme\n",
      "\n",
      "From r  Fri Nov  1 04:48:39 2002\n",
      "Return-Path: <m_abacha03@www.com>\n",
      "X-Sieve: cmu-sieve 2.0\n",
      "Return-Path: <m_abacha03@www.com>\n",
      "Message-Id: <200211010948.gA19mLu22932@perfectworld.mr.itd.UM>\n",
      "From: \"Maryam Abacha\" <m_abacha03@www.com>\n",
      "Reply-To: m_abacha03@www.com\n",
      "To: R@M\n",
      "Date: Fri, 1 Nov 2002 01:45:04 +0100\n",
      "Subject: I Need Your Assistance.\n",
      "X-Mailer: Microsoft Outlook Express 5.00.2919.6900 DM\n",
      "MIME-Version: 1.0\n",
      "Content-Type: text/plain; charset=\"us-ascii\"\n",
      "Content-Transfer-Encoding: 8bit\n",
      "X-MIME-Autoconverted: from quoted-printable to 8bit by sideshowmel.si.UM id gA19mVW29040\n",
      "Status: RO\n",
      "\n",
      "Dear sir, \n",
      " \n",
      "It is with a heart full of hope that I write to seek your help in respect of the context below. I am Mrs. Maryam Abacha the former first lady of the former Military Head of State of Nigeria General Sani Abacha whose sudden death occurred on 8th of June 1998 as a result of cardiac arrest (heart attack) while on the seat of power. \n",
      "I have no doubt about your capability and good-will to assist me in receiving into your custody (for safety) the sum of US$25 Million willed and deposited in my favour by my late husband in a security and deposit company. Though my contact to you for this assistance is not anchored on any personal ecommendation, I pray your understanding, good will and sincere assistance to respond to this message with honest intensions and concern. \n",
      "This money is currently deposited here with a security company as miscellaneous awaiting collection and according to the agreement entered into at the time of deposit between my late husband and the Security Company at the time of deposit; the collection centre is in Ghana. As it is legally required, the administration of my late husband's properties is under the authority of the family's lawyer Tony Musa. \n",
      " \n",
      "My Dear JK, since the demise of my husband, the present regime has been probing my late husband's wealth and properties, the London Newsweek of 13th march 2000 referred. The investigating team led by Enrico Monfrini, the lawyer acting on behalf of the Nigerian government has so far submitted their report and presently, some liquid cash and assets, movable and immovable, have been frozen and seized both locally here and internationally and my last hope is rested on the immediate security of this fund in your custody. Also, Johnnie Cochran, the lawyer who defended OJ Simpson, has been brought in by the Abacha entourage to help them retain the disputed funds. Fortunately, our family lawyer had secretly protected the \"Personal will\" of my husband from the notice of the investigators and have strictly advised that the willed money be urgently moved into an overseas account of Trusted Foreign family friend without delay. For security reasons and f!\n",
      "urther advise,! no relations or fr! \n",
      "iends of ours should be used; as this is a measure of security. The government had earlier placed foreign travel embargo on all our family members and seized all known local and International outfits of our business empire. \n",
      "The situation has been so terrible that we are virtually living on the assistance of well-wishers. In view of this plight, I expect you to be trustworthy and kind enough to respond to this \"SOS\" call to save my children and I from a hopeless future. \n",
      "I hereby agree to compensate your sincere and candid effort, immensely, which will be discussed between you, the Attorney and I. On your immediate response, the Attorney will travel to Ghana where both of you will meet, and thereafter proceed to the deposit company for the claims. \n",
      "The documentations include, most importantly, Power of Attorney and Certificate of Deposit amongst few others. These documents will be sent to you by Fax, as you would have to present them for proper claims. \n",
      "Please, be rest assured that this transaction is completely safe and legal but must be kept strictly to yourself even after the funds have been secured into our custody. This is so because any leakage of information could ruin the whole transaction. \n",
      "Please all contacts must be made through my lawyer on his email: tony_m@lawyer.com This has to be so as he has been mandated to handle this matter and I have fully briefed him (my Attorney) on my contact to you. Due to my present circumstance, I have handed everything over to him to co - ordinate and finalize with you and I will communicate you as at when necessary. Please for the safety of this transaction, reply stating your phone and fax numbers to enable them contact you directly without running the risk of mail interception. \n",
      "I look forward to your quick response. \n",
      "Best Wishes, \n",
      "Mrs. Maryam Abacha \n",
      " \n",
      "\n",
      "\n",
      "From r  Sat Nov  2 00:18:06 2002\n",
      "Return-Path: <davidkuta@postmark.net>\n",
      "X-Sieve: cmu-sieve 2.0\n",
      "Return-Path: <davidkut\n"
     ]
    }
   ],
   "source": [
    "print(data[:20000])"
   ]
  },
  {
   "cell_type": "markdown",
   "metadata": {},
   "source": [
    "Dividir en la palabra clave `From r` que aparece cerca del comienzo de cada correo electrónico"
   ]
  },
  {
   "cell_type": "code",
   "execution_count": 9,
   "metadata": {
    "execution": {
     "iopub.execute_input": "2024-09-20T05:18:14.630648Z",
     "iopub.status.busy": "2024-09-20T05:18:14.630172Z",
     "iopub.status.idle": "2024-09-20T05:18:14.666438Z",
     "shell.execute_reply": "2024-09-20T05:18:14.665064Z",
     "shell.execute_reply.started": "2024-09-20T05:18:14.630602Z"
    }
   },
   "outputs": [
    {
     "name": "stdout",
     "output_type": "stream",
     "text": [
      "¡Cargó exitosamente 3978 emails de spam!\n"
     ]
    }
   ],
   "source": [
    "fraud_emails = data.split(\"From r\")\n",
    "\n",
    "print(\"¡Cargó exitosamente {} emails de spam!\".format(len(fraud_emails)))"
   ]
  },
  {
   "cell_type": "code",
   "execution_count": 10,
   "metadata": {
    "execution": {
     "iopub.execute_input": "2024-09-20T05:18:50.142839Z",
     "iopub.status.busy": "2024-09-20T05:18:50.142404Z",
     "iopub.status.idle": "2024-09-20T05:18:51.341033Z",
     "shell.execute_reply": "2024-09-20T05:18:51.339755Z",
     "shell.execute_reply.started": "2024-09-20T05:18:50.142796Z"
    }
   },
   "outputs": [
    {
     "name": "stdout",
     "output_type": "stream",
     "text": [
      "¡Se recuperó existosamente el cuerpo del mensaje a partir de los e-mails!\n"
     ]
    },
    {
     "data": {
      "text/html": [
       "<div>\n",
       "<style scoped>\n",
       "    .dataframe tbody tr th:only-of-type {\n",
       "        vertical-align: middle;\n",
       "    }\n",
       "\n",
       "    .dataframe tbody tr th {\n",
       "        vertical-align: top;\n",
       "    }\n",
       "\n",
       "    .dataframe thead th {\n",
       "        text-align: right;\n",
       "    }\n",
       "</style>\n",
       "<table border=\"1\" class=\"dataframe\">\n",
       "  <thead>\n",
       "    <tr style=\"text-align: right;\">\n",
       "      <th></th>\n",
       "      <th>0</th>\n",
       "    </tr>\n",
       "  </thead>\n",
       "  <tbody>\n",
       "    <tr>\n",
       "      <th>0</th>\n",
       "      <td>FROM:MR. JAMES NGOLA.\\nCONFIDENTIAL TEL: 233-27-587908.\\nE-MAIL: (james_ngola2002@maktoob.com).\\n\\nURGENT BUSINESS ASSISTANCE AND PARTNERSHIP.\\n\\n\\nDEAR FRIEND,\\n\\nI AM ( DR.) JAMES NGOLA, THE PERSONAL ASSISTANCE TO THE LATE CONGOLESE (PRESIDENT LAURENT KABILA) WHO WAS ASSASSINATED BY HIS BODY G...</td>\n",
       "    </tr>\n",
       "    <tr>\n",
       "      <th>1</th>\n",
       "      <td>Dear Friend,\\n\\nI am Mr. Ben Suleman a custom officer and work as Assistant controller of the Customs and Excise department Of the Federal Ministry of Internal Affairs stationed at the Murtala Mohammed International Airport, Ikeja, Lagos-Nigeria.\\n\\nAfter the sudden death of the former Head of s...</td>\n",
       "    </tr>\n",
       "    <tr>\n",
       "      <th>2</th>\n",
       "      <td>FROM HIS ROYAL MAJESTY (HRM) CROWN RULER OF ELEME KINGDOM \\nCHIEF DANIEL ELEME, PHD, EZE 1 OF ELEME.E-MAIL \\nADDRESS:obong_715@epatra.com  \\n\\nATTENTION:PRESIDENT,CEO Sir/ Madam. \\n\\nThis letter might surprise you because we have met\\nneither in person nor by correspondence. But I believe\\nit is...</td>\n",
       "    </tr>\n",
       "    <tr>\n",
       "      <th>3</th>\n",
       "      <td>FROM HIS ROYAL MAJESTY (HRM) CROWN RULER OF ELEME KINGDOM \\nCHIEF DANIEL ELEME, PHD, EZE 1 OF ELEME.E-MAIL \\nADDRESS:obong_715@epatra.com  \\n\\nATTENTION:PRESIDENT,CEO Sir/ Madam. \\n\\nThis letter might surprise you because we have met\\nneither in person nor by correspondence. But I believe\\nit is...</td>\n",
       "    </tr>\n",
       "    <tr>\n",
       "      <th>4</th>\n",
       "      <td>Dear sir, \\n \\nIt is with a heart full of hope that I write to seek your help in respect of the context below. I am Mrs. Maryam Abacha the former first lady of the former Military Head of State of Nigeria General Sani Abacha whose sudden death occurred on 8th of June 1998 as a result of cardiac ...</td>\n",
       "    </tr>\n",
       "  </tbody>\n",
       "</table>\n",
       "</div>"
      ],
      "text/plain": [
       "                                                                                                                                                                                                                                                                                                             0\n",
       "0  FROM:MR. JAMES NGOLA.\\nCONFIDENTIAL TEL: 233-27-587908.\\nE-MAIL: (james_ngola2002@maktoob.com).\\n\\nURGENT BUSINESS ASSISTANCE AND PARTNERSHIP.\\n\\n\\nDEAR FRIEND,\\n\\nI AM ( DR.) JAMES NGOLA, THE PERSONAL ASSISTANCE TO THE LATE CONGOLESE (PRESIDENT LAURENT KABILA) WHO WAS ASSASSINATED BY HIS BODY G...\n",
       "1  Dear Friend,\\n\\nI am Mr. Ben Suleman a custom officer and work as Assistant controller of the Customs and Excise department Of the Federal Ministry of Internal Affairs stationed at the Murtala Mohammed International Airport, Ikeja, Lagos-Nigeria.\\n\\nAfter the sudden death of the former Head of s...\n",
       "2  FROM HIS ROYAL MAJESTY (HRM) CROWN RULER OF ELEME KINGDOM \\nCHIEF DANIEL ELEME, PHD, EZE 1 OF ELEME.E-MAIL \\nADDRESS:obong_715@epatra.com  \\n\\nATTENTION:PRESIDENT,CEO Sir/ Madam. \\n\\nThis letter might surprise you because we have met\\nneither in person nor by correspondence. But I believe\\nit is...\n",
       "3  FROM HIS ROYAL MAJESTY (HRM) CROWN RULER OF ELEME KINGDOM \\nCHIEF DANIEL ELEME, PHD, EZE 1 OF ELEME.E-MAIL \\nADDRESS:obong_715@epatra.com  \\n\\nATTENTION:PRESIDENT,CEO Sir/ Madam. \\n\\nThis letter might surprise you because we have met\\nneither in person nor by correspondence. But I believe\\nit is...\n",
       "4  Dear sir, \\n \\nIt is with a heart full of hope that I write to seek your help in respect of the context below. I am Mrs. Maryam Abacha the former first lady of the former Military Head of State of Nigeria General Sani Abacha whose sudden death occurred on 8th of June 1998 as a result of cardiac ..."
      ]
     },
     "execution_count": 10,
     "metadata": {},
     "output_type": "execute_result"
    }
   ],
   "source": [
    "fraud_bodies = extract_messages(pd.DataFrame(fraud_emails,columns=[\"message\"],dtype=str))\n",
    "fraud_bodies_df = pd.DataFrame(fraud_bodies[1:])\n",
    "\n",
    "fraud_bodies_df.head() # podrías hacer print(fraud_bodies_df.head()), pero Jupyter despliega esto mejor para pandas DataFrames"
   ]
  },
  {
   "cell_type": "markdown",
   "metadata": {},
   "source": [
    "# Definir funciones de tokenización, eliminación de stop-words y eliminación de puntuación\n",
    "\n",
    "Antes de continuar, debemos decidir cuántas muestras extraer de cada clase. También debemos decidir la cantidad máxima de tokens por correo electrónico y la longitud máxima de cada token. Esto se hace configurando los siguientes hiperparámetros generales"
   ]
  },
  {
   "cell_type": "code",
   "execution_count": 11,
   "metadata": {
    "execution": {
     "iopub.execute_input": "2024-09-20T05:22:38.828846Z",
     "iopub.status.busy": "2024-09-20T05:22:38.828381Z",
     "iopub.status.idle": "2024-09-20T05:22:38.834617Z",
     "shell.execute_reply": "2024-09-20T05:22:38.833202Z",
     "shell.execute_reply.started": "2024-09-20T05:22:38.828805Z"
    }
   },
   "outputs": [],
   "source": [
    "Nsamp = 1000 # número de muestras a generar en cada clase - 'spam', 'not spam'\n",
    "maxtokens = 200 # el número máximo de tokens por documento\n",
    "maxtokenlen = 100 # la longitud máxima de cada token"
   ]
  },
  {
   "cell_type": "markdown",
   "metadata": {},
   "source": [
    "**Tokenization**"
   ]
  },
  {
   "cell_type": "code",
   "execution_count": 12,
   "metadata": {
    "execution": {
     "iopub.execute_input": "2024-09-20T05:22:52.337593Z",
     "iopub.status.busy": "2024-09-20T05:22:52.336191Z",
     "iopub.status.idle": "2024-09-20T05:22:52.344368Z",
     "shell.execute_reply": "2024-09-20T05:22:52.343134Z",
     "shell.execute_reply.started": "2024-09-20T05:22:52.337527Z"
    }
   },
   "outputs": [],
   "source": [
    "def tokenize(row):\n",
    "    if row is None or row == '':\n",
    "        tokens = \"\"\n",
    "    else:\n",
    "        tokens = str(row).split(\" \")[:maxtokens]\n",
    "    return tokens"
   ]
  },
  {
   "cell_type": "markdown",
   "metadata": {},
   "source": [
    "**Usar regular expressions para quitar caracteres no necesarios** \n",
    "\n",
    "Después, definimos una función para eliminar los signos de puntuación y otros caracteres no alfabéticos (usando expresiones regulares) de los correos electrónicos con la ayuda de la omnipresente biblioteca de expresiones regulares de Python. En el mismo paso, truncamos todos los tokens a la hiperparámetro `maxtokenlen` definido anteriormente"
   ]
  },
  {
   "cell_type": "code",
   "execution_count": 13,
   "metadata": {
    "execution": {
     "iopub.execute_input": "2024-09-20T05:30:54.928717Z",
     "iopub.status.busy": "2024-09-20T05:30:54.928246Z",
     "iopub.status.idle": "2024-09-20T05:30:54.936050Z",
     "shell.execute_reply": "2024-09-20T05:30:54.934567Z",
     "shell.execute_reply.started": "2024-09-20T05:30:54.928674Z"
    }
   },
   "outputs": [],
   "source": [
    "import re\n",
    "\n",
    "def reg_expressions(row):\n",
    "    tokens = []\n",
    "    try:\n",
    "        for token in row:\n",
    "            #4) ESCRIBA UNA LÍNEA DE CÓDIGO QUE CONVIERTA UNA VARIABLE LLAMADA token A MINÚSCULAS Y ALMACENE EL RESULTADO NUEVAMENTE EN LA MISMA VARIABLE token\n",
    "            # Buscar el patrón indicado en el token elegido en el ciclo y reemplazarlo por un texto nulo \"\"\n",
    "            token = re.sub(r'[\\W\\d]', \"\", token)\n",
    "            # Línea de código que convierte el token a minúsculas y almacena el resultado en la misma variable token\n",
    "            token = token.lower()\n",
    "            #5) TRUNQUE EL TOKEN A LA MÁXIMA LONGITUD ANTES DEFINIDA\n",
    "            token = token[:maxtokenlen]\n",
    "            # Agregar el token truncado a la lista de tokens\n",
    "            tokens.append(token)\n",
    "    except:\n",
    "        token = \"\"\n",
    "        tokens.append(token)\n",
    "    return tokens"
   ]
  },
  {
   "cell_type": "markdown",
   "metadata": {},
   "source": [
    "**Eliminación de Stop-word**\n",
    "\n",
    "Definamos una función para eliminar las stopwords —palabras que ocurren con tanta frecuencia en el lenguaje que no ofrecen información útil para la clasificación. Esto incluye palabras como “the” y “are”, y la popular biblioteca NLTK proporciona una lista ampliamente utilizada que se empleará."
   ]
  },
  {
   "cell_type": "code",
   "execution_count": 14,
   "metadata": {
    "execution": {
     "iopub.execute_input": "2024-09-20T05:33:07.584668Z",
     "iopub.status.busy": "2024-09-20T05:33:07.583199Z",
     "iopub.status.idle": "2024-09-20T05:33:07.601178Z",
     "shell.execute_reply": "2024-09-20T05:33:07.599773Z",
     "shell.execute_reply.started": "2024-09-20T05:33:07.584603Z"
    }
   },
   "outputs": [],
   "source": [
    "# Definir una lista de stopwords manualmente si no se puede descargar de nltk\n",
    "stopwords = set([\"i\", \"me\", \"my\", \"myself\", \"we\", \"our\", \"ours\", \"ourselves\", \"you\",\"you're\", \"you've\", \"you'll\", \"you'd\", \"your\", \n",
    "    \"yours\", \"yourself\", \"yourselves\", \"he\", \"him\", \"his\", \"himself\", \"she\", \"she's\", \"her\", \"hers\", \"herself\", \"it\", \n",
    "    \"it's\", \"its\", \"itself\", \"they\", \"them\", \"their\", \"theirs\", \"themselves\", \"what\", \"which\", \"who\", \"whom\", \"this\", \n",
    "    \"that\", \"that'll\", \"these\", \"those\", \"am\", \"is\", \"are\", \"was\", \"were\", \"be\", \"been\", \"being\", \"have\", \"has\", \n",
    "    \"had\", \"having\", \"do\", \"does\", \"did\", \"doing\", \"a\", \"an\", \"the\", \"and\", \"but\", \"if\", \"or\", 'because', 'as', \n",
    "    'until', 'while', 'of', 'at', 'by', 'for', 'with', 'about', 'against', 'between', 'into', 'through', 'during', \n",
    "    'before', 'after', 'above', 'below', 'to', 'from', 'up', 'down', 'in', 'out', 'on', 'off', 'over', 'under', \n",
    "    'again', 'further', 'then', 'once', 'here', 'there', 'when', 'where', 'why', 'how', 'all', 'any', 'both', \n",
    "    'each', 'few', 'more', 'most', 'other', 'some', 'such', 'no', 'nor', 'not', 'only', 'own', 'same', 'so', \n",
    "    'than', 'too', 'very', 's', 't', 'can', 'will', 'just', 'don', \"don't\", 'should', \"should've\", 'now', 'd', \n",
    "    'll', 'm', 'o', 're', 've', 'y', 'ain', 'aren', \"aren't\", 'couldn', \"couldn't\", 'didn', \"didn't\", 'doesn', \n",
    "    \"doesn't\", 'hadn', \"hadn't\", 'hasn', \"hasn't\", 'haven', \"haven't\", 'isn', \"isn't\", 'ma', 'mightn', \"mightn't\", \n",
    "    'mustn', \"mustn't\", 'needn', \"needn't\", 'shan', \"shan't\", 'shouldn', \"shouldn't\", 'wasn', \"wasn't\", 'weren', \n",
    "    \"weren't\", 'won', \"won't\", 'wouldn', \"wouldn't\"])\n",
    "\n",
    "def stop_word_removal(row):\n",
    "    ###6) CREE UNA NUEVA LISTA LLAMADA TOKEN, QUE CONTENGA SOLO AQUELLOS TOKENS DE ROW QUE NO ESTÉN EN STOPWORDS.\"\n",
    "    token = list(palabra for palabra in row if palabra.lower() not in stopwords)\n",
    "    # Filtrar elementos vacíos o None\n",
    "    token = list(filter(None, token))  # Crear una lista nueva con los datos filtrados\n",
    "    return token"
   ]
  },
  {
   "cell_type": "markdown",
   "metadata": {},
   "source": [
    "# Modelo Bag-of-words \n",
    "\n",
    "Para que la computadora pueda hacer inferencias sobre los correos electrónicos, debe ser capaz de interpretar el texto mediante una representación numérica de este. Una forma de hacerlo es utilizando un modelo llamado 'bag-of-words'. Este modelo simplemente cuenta la frecuencia de los tokens de palabras para cada correo electrónico y, de este modo, lo representa como un vector de estos conteos.\n",
    "\n",
    "**Función Assemble matrices** \n",
    "\n",
    "La función `assemble_bag()` ensambla un dataframe nuevo que contiene todas las palabras únicas encontradas en documentos de texo. Cuenta la frecuencia por palabra y luego regresa el dataframe nuevo."
   ]
  },
  {
   "cell_type": "code",
   "execution_count": 15,
   "metadata": {
    "execution": {
     "iopub.execute_input": "2024-09-20T05:34:36.692159Z",
     "iopub.status.busy": "2024-09-20T05:34:36.691703Z",
     "iopub.status.idle": "2024-09-20T05:34:36.700126Z",
     "shell.execute_reply": "2024-09-20T05:34:36.698907Z",
     "shell.execute_reply.started": "2024-09-20T05:34:36.692117Z"
    }
   },
   "outputs": [],
   "source": [
    "def assemble_bag(data):\n",
    "    used_tokens = []\n",
    "    all_tokens = []\n",
    "\n",
    "    for item in data:\n",
    "        for token in item:\n",
    "            if token in all_tokens:\n",
    "                if token not in used_tokens:\n",
    "                    used_tokens.append(token)\n",
    "            else:\n",
    "                all_tokens.append(token)\n",
    "    \n",
    "    df = pd.DataFrame(0, index = np.arange(len(data)), columns = used_tokens)\n",
    "    \n",
    "    for i, item in enumerate(data):\n",
    "        for token in item:\n",
    "            if token in used_tokens:\n",
    "                #####7) ESCRIBAN UNA LÍNEA DE CÓDIGO QUE INCREMENTE EN 1 EL VALOR EN LA FILA i Y LA COLUMNA CORRESPONDIENTE A token EN EL DATAFRAME df\n",
    "                # La columna correspondiente a token en el df tiene el índice numérico 0 (es la primer y única columna del dataframe)\n",
    "                df.iloc[i, 0] += 1\n",
    "    return df"
   ]
  },
  {
   "cell_type": "markdown",
   "metadata": {},
   "source": [
    "# Poniendo todo junto para armar el Dataset\n",
    "\n",
    "Se hacen todos los pasos de pre-procesamiento para armar nuestro dataset..."
   ]
  },
  {
   "cell_type": "code",
   "execution_count": 16,
   "metadata": {
    "execution": {
     "iopub.execute_input": "2024-09-20T05:35:16.646974Z",
     "iopub.status.busy": "2024-09-20T05:35:16.646582Z",
     "iopub.status.idle": "2024-09-20T05:35:19.346098Z",
     "shell.execute_reply": "2024-09-20T05:35:19.344764Z",
     "shell.execute_reply.started": "2024-09-20T05:35:16.646936Z"
    }
   },
   "outputs": [],
   "source": [
    "# Convertir todo a lower-case, truncar a maxtokens y truncar cada token a maxtokenlen\n",
    "EnronEmails = bodies_df.iloc[:,0].apply(tokenize)\n",
    "EnronEmails = EnronEmails.apply(stop_word_removal)\n",
    "EnronEmails = EnronEmails.apply(reg_expressions)\n",
    "EnronEmails = EnronEmails.sample(Nsamp)\n",
    "\n",
    "SpamEmails = fraud_bodies_df.iloc[:,0].apply(tokenize)\n",
    "SpamEmails = SpamEmails.apply(stop_word_removal)\n",
    "SpamEmails = SpamEmails.apply(reg_expressions)\n",
    "SpamEmails = SpamEmails.sample(Nsamp)\n",
    "\n",
    "raw_data = pd.concat([SpamEmails,EnronEmails], axis=0).values"
   ]
  },
  {
   "cell_type": "code",
   "execution_count": 17,
   "metadata": {
    "execution": {
     "iopub.execute_input": "2024-09-20T05:35:38.050493Z",
     "iopub.status.busy": "2024-09-20T05:35:38.050044Z",
     "iopub.status.idle": "2024-09-20T05:35:38.058367Z",
     "shell.execute_reply": "2024-09-20T05:35:38.056992Z",
     "shell.execute_reply.started": "2024-09-20T05:35:38.050449Z"
    }
   },
   "outputs": [
    {
     "name": "stdout",
     "output_type": "stream",
     "text": [
      "El tamaño de los datos combinados es:\n",
      "(2000,)\n",
      "Los datos son:\n",
      "[list(['froma', 'mrs', 'farah', 'alhashemiaddressa', 'chiang', 'rai', 'hospital', 'chiang', 'rai', '', 'lampoon', 'rdccchiang', 'rai', 'thailanddearest', 'belovedcthank', 'attention', 'beeing', 'given', 'go', 'mailei', 'ammrsefarah', 'alhashemic', 'wife', 'iraq', 'military', 'finance', 'corps', 'chiefcwho', 'incharge', 'payment', 'military', 'salary', 'life', 'servicetime', 'e', '', 'years', 'oldc', 'receiving', 'treatment', 'thehospitale', 'quite', 'obvious', 'live', 'longer', 'according', 'doctor', 'amsufering', 'kidney', 'transplant', 'illnesscthis', 'illness', 'gotten', 'bad', 'stageemy', 'late', 'husband', 'died', 'british', 'american', 'attacks', 'mycountry', 'c', 'period', 'marriage', 'two', 'male', 'children', 'musa', 'andidriseafter', 'death', 'husband', 'c', 'inherited', 'money', 'latehusband', 'deposited', 'security', 'finance', 'company', 'thailand', 'forsafety', 'ethe', 'doctor', 'advised', 'may', 'live', 'longc', 'decidedto', 'contact', 'assist', 'two', 'sons', 'claim', 'money', 'deposited', 'andguide', 'investment', 'potential', 'business', 'manemy', 'family', 'interested', 'business', 'countrycthefore', 'would', 'like', 'seek', 'assistance'])\n",
      " list(['emailmessagemessage', 'object', 'xdbfaeac'])\n",
      " list(['abidjan', 'cote', 'iviorefromlinda', 'john', 'chrismy', 'dear', 'mrs', 'linda', 'chris', 'ivory', 'coast', 'lost', 'husband', 'kolo', 'chris', 'couple', 'months', 'ago', 'husband', 'serving', 'director', 'cocoa', 'exporting', 'abroad', 'death', 'he', 'assassinated', 'last', 'january', '', 'rebels', 'following', 'political', 'uprising', 'death', 'foreign', 'account', 'cote', 'divoire', 'tune', 'm', 'told', 'bank', 'importation', 'cocoa', 'processing', 'machinethe', 'money', 'willed', 'favour', 'son', 'john', 'chris', 'next', 'kin', 'depositi', 'want', 'favour', 'receive', 'son', 'john', 'funds', 'safe', 'account', 'country', 'safer', 'place', 'beneficiary', 'moreoveri', 'willing', 'offer', '', 'total', 'sum', 'compensation', 'fund', 'successful', 'transfer', 'norminated', 'bank', 'account', 'countryi', 'plans', 'investment', 'country', 'like', 'real', 'estate', 'industrial', 'productionthis', 'reason', 'writing', 'youplease', 'willing', 'assist', 'indicate'])\n",
      " ... list(['get', 'schedule'])\n",
      " list(['enrons', 'image', '', 'video', 'availablewe', 'think', 'like', 'enrons', 'new', 'corporate', 'impage', 'video', 'used', 'for', 'employees', 'customers', 'suppliers', 'government', 'officials', 'audiences', 'want', 'know', 'enron', 'video', 'features', 'ken', 'lay', 'jeff', 'skilling', 'joe', 'sutton', 'discuss', 'four', 'key', 'business', 'initiatives', 'broadband', 'wholesale', 'energy', 'energy', 'outsourcing', 'services', 'enrononline', 'the', 'look', 'feel', 'represents', 'people', 'culture', 'new', 'branding', 'mooresource', 'large', 'supply', 'standard', 'vhs', 'also', 'known', 'ntsc', 'copies', 'which', 'format', 'used', 'us', 'international', 'locations', 'copies', 'pal', 'format', 'used', 'uk', 'european', 'locations', 'also', 'special', 'pal', 'formats', 'palm', 'paln', 'available', 'for', 'locations', 'south', 'america', '', 'you', 'may', 'use', 'order', 'form', 'or', 'prefer', 'order', 'electronically', 'may', 'mooresource', 'using', 'following', 'item', 'numbers', 'familiar', 'mooresource', 'please', 'go', 'tohttphomeenroncomimgctr', 'click', 'mooresource', 'button', 'instructions', 'ordering', 'provided', 'there', 'questions', 'about', 'using', 'mooresource', 'contact', 'michael', 'shea'])\n",
      " list(['', 'lone', 'liquidation', 'variancescesdynegy', '', 'tagg', 'numbers', 'efp', 'deals', 'variances', 'show', 'forms', 'used', 'clearecs', '', 'tagg', 'number', 'sitara', 'deal', '', '', 'flow', 'gas', 'that', 'suppossed', 'flow', 'deal', 'flowed', '', '', 'northern', 'natural', 'tagg', 'part', 'variance', 'settlements', 'reliant', 'energy', '', 'synthetic', 'storage', 'deal', 'flowed', 'sitara', '', 'again', 'variance', 'deskmove', 'wpl', 'variance', 'line', 'take', 'remaining', 'variance', 'the', 'desklet', 'know', 'need', 'info', 'categorypl'])]\n"
     ]
    }
   ],
   "source": [
    "print(\"El tamaño de los datos combinados es:\")\n",
    "print(raw_data.shape)\n",
    "print(\"Los datos son:\")\n",
    "print(raw_data)\n",
    "\n",
    "# crear las etiquetas correspondientes\n",
    "Categories = ['spam','notspam']\n",
    "header = ([1]*Nsamp)\n",
    "header.extend(([0]*Nsamp))"
   ]
  },
  {
   "cell_type": "markdown",
   "metadata": {},
   "source": [
    "¡Estamos ahora listos para convertirlos en valores numéricos!!"
   ]
  },
  {
   "cell_type": "markdown",
   "metadata": {},
   "source": [
    "**Crear features y labels**"
   ]
  },
  {
   "cell_type": "code",
   "execution_count": 18,
   "metadata": {
    "execution": {
     "iopub.execute_input": "2024-09-20T05:36:25.158752Z",
     "iopub.status.busy": "2024-09-20T05:36:25.158311Z",
     "iopub.status.idle": "2024-09-20T05:38:02.127323Z",
     "shell.execute_reply": "2024-09-20T05:38:02.125958Z",
     "shell.execute_reply.started": "2024-09-20T05:36:25.158712Z"
    }
   },
   "outputs": [
    {
     "data": {
      "text/html": [
       "<div>\n",
       "<style scoped>\n",
       "    .dataframe tbody tr th:only-of-type {\n",
       "        vertical-align: middle;\n",
       "    }\n",
       "\n",
       "    .dataframe tbody tr th {\n",
       "        vertical-align: top;\n",
       "    }\n",
       "\n",
       "    .dataframe thead th {\n",
       "        text-align: right;\n",
       "    }\n",
       "</style>\n",
       "<table border=\"1\" class=\"dataframe\">\n",
       "  <thead>\n",
       "    <tr style=\"text-align: right;\">\n",
       "      <th></th>\n",
       "      <th>chiang</th>\n",
       "      <th>rai</th>\n",
       "      <th>military</th>\n",
       "      <th></th>\n",
       "      <th>husband</th>\n",
       "      <th>c</th>\n",
       "      <th>finance</th>\n",
       "      <th>doctor</th>\n",
       "      <th>live</th>\n",
       "      <th>two</th>\n",
       "      <th>...</th>\n",
       "      <th>audiences</th>\n",
       "      <th>sutton</th>\n",
       "      <th>culture</th>\n",
       "      <th>pal</th>\n",
       "      <th>formats</th>\n",
       "      <th>palm</th>\n",
       "      <th>mooresource</th>\n",
       "      <th>ordering</th>\n",
       "      <th>tagg</th>\n",
       "      <th>flowed</th>\n",
       "    </tr>\n",
       "  </thead>\n",
       "  <tbody>\n",
       "    <tr>\n",
       "      <th>0</th>\n",
       "      <td>105</td>\n",
       "      <td>0</td>\n",
       "      <td>0</td>\n",
       "      <td>0</td>\n",
       "      <td>0</td>\n",
       "      <td>0</td>\n",
       "      <td>0</td>\n",
       "      <td>0</td>\n",
       "      <td>0</td>\n",
       "      <td>0</td>\n",
       "      <td>...</td>\n",
       "      <td>0</td>\n",
       "      <td>0</td>\n",
       "      <td>0</td>\n",
       "      <td>0</td>\n",
       "      <td>0</td>\n",
       "      <td>0</td>\n",
       "      <td>0</td>\n",
       "      <td>0</td>\n",
       "      <td>0</td>\n",
       "      <td>0</td>\n",
       "    </tr>\n",
       "    <tr>\n",
       "      <th>1</th>\n",
       "      <td>3</td>\n",
       "      <td>0</td>\n",
       "      <td>0</td>\n",
       "      <td>0</td>\n",
       "      <td>0</td>\n",
       "      <td>0</td>\n",
       "      <td>0</td>\n",
       "      <td>0</td>\n",
       "      <td>0</td>\n",
       "      <td>0</td>\n",
       "      <td>...</td>\n",
       "      <td>0</td>\n",
       "      <td>0</td>\n",
       "      <td>0</td>\n",
       "      <td>0</td>\n",
       "      <td>0</td>\n",
       "      <td>0</td>\n",
       "      <td>0</td>\n",
       "      <td>0</td>\n",
       "      <td>0</td>\n",
       "      <td>0</td>\n",
       "    </tr>\n",
       "    <tr>\n",
       "      <th>2</th>\n",
       "      <td>91</td>\n",
       "      <td>0</td>\n",
       "      <td>0</td>\n",
       "      <td>0</td>\n",
       "      <td>0</td>\n",
       "      <td>0</td>\n",
       "      <td>0</td>\n",
       "      <td>0</td>\n",
       "      <td>0</td>\n",
       "      <td>0</td>\n",
       "      <td>...</td>\n",
       "      <td>0</td>\n",
       "      <td>0</td>\n",
       "      <td>0</td>\n",
       "      <td>0</td>\n",
       "      <td>0</td>\n",
       "      <td>0</td>\n",
       "      <td>0</td>\n",
       "      <td>0</td>\n",
       "      <td>0</td>\n",
       "      <td>0</td>\n",
       "    </tr>\n",
       "    <tr>\n",
       "      <th>3</th>\n",
       "      <td>91</td>\n",
       "      <td>0</td>\n",
       "      <td>0</td>\n",
       "      <td>0</td>\n",
       "      <td>0</td>\n",
       "      <td>0</td>\n",
       "      <td>0</td>\n",
       "      <td>0</td>\n",
       "      <td>0</td>\n",
       "      <td>0</td>\n",
       "      <td>...</td>\n",
       "      <td>0</td>\n",
       "      <td>0</td>\n",
       "      <td>0</td>\n",
       "      <td>0</td>\n",
       "      <td>0</td>\n",
       "      <td>0</td>\n",
       "      <td>0</td>\n",
       "      <td>0</td>\n",
       "      <td>0</td>\n",
       "      <td>0</td>\n",
       "    </tr>\n",
       "    <tr>\n",
       "      <th>4</th>\n",
       "      <td>6</td>\n",
       "      <td>0</td>\n",
       "      <td>0</td>\n",
       "      <td>0</td>\n",
       "      <td>0</td>\n",
       "      <td>0</td>\n",
       "      <td>0</td>\n",
       "      <td>0</td>\n",
       "      <td>0</td>\n",
       "      <td>0</td>\n",
       "      <td>...</td>\n",
       "      <td>0</td>\n",
       "      <td>0</td>\n",
       "      <td>0</td>\n",
       "      <td>0</td>\n",
       "      <td>0</td>\n",
       "      <td>0</td>\n",
       "      <td>0</td>\n",
       "      <td>0</td>\n",
       "      <td>0</td>\n",
       "      <td>0</td>\n",
       "    </tr>\n",
       "    <tr>\n",
       "      <th>...</th>\n",
       "      <td>...</td>\n",
       "      <td>...</td>\n",
       "      <td>...</td>\n",
       "      <td>...</td>\n",
       "      <td>...</td>\n",
       "      <td>...</td>\n",
       "      <td>...</td>\n",
       "      <td>...</td>\n",
       "      <td>...</td>\n",
       "      <td>...</td>\n",
       "      <td>...</td>\n",
       "      <td>...</td>\n",
       "      <td>...</td>\n",
       "      <td>...</td>\n",
       "      <td>...</td>\n",
       "      <td>...</td>\n",
       "      <td>...</td>\n",
       "      <td>...</td>\n",
       "      <td>...</td>\n",
       "      <td>...</td>\n",
       "      <td>...</td>\n",
       "    </tr>\n",
       "    <tr>\n",
       "      <th>1995</th>\n",
       "      <td>20</td>\n",
       "      <td>0</td>\n",
       "      <td>0</td>\n",
       "      <td>0</td>\n",
       "      <td>0</td>\n",
       "      <td>0</td>\n",
       "      <td>0</td>\n",
       "      <td>0</td>\n",
       "      <td>0</td>\n",
       "      <td>0</td>\n",
       "      <td>...</td>\n",
       "      <td>0</td>\n",
       "      <td>0</td>\n",
       "      <td>0</td>\n",
       "      <td>0</td>\n",
       "      <td>0</td>\n",
       "      <td>0</td>\n",
       "      <td>0</td>\n",
       "      <td>0</td>\n",
       "      <td>0</td>\n",
       "      <td>0</td>\n",
       "    </tr>\n",
       "    <tr>\n",
       "      <th>1996</th>\n",
       "      <td>5</td>\n",
       "      <td>0</td>\n",
       "      <td>0</td>\n",
       "      <td>0</td>\n",
       "      <td>0</td>\n",
       "      <td>0</td>\n",
       "      <td>0</td>\n",
       "      <td>0</td>\n",
       "      <td>0</td>\n",
       "      <td>0</td>\n",
       "      <td>...</td>\n",
       "      <td>0</td>\n",
       "      <td>0</td>\n",
       "      <td>0</td>\n",
       "      <td>0</td>\n",
       "      <td>0</td>\n",
       "      <td>0</td>\n",
       "      <td>0</td>\n",
       "      <td>0</td>\n",
       "      <td>0</td>\n",
       "      <td>0</td>\n",
       "    </tr>\n",
       "    <tr>\n",
       "      <th>1997</th>\n",
       "      <td>2</td>\n",
       "      <td>0</td>\n",
       "      <td>0</td>\n",
       "      <td>0</td>\n",
       "      <td>0</td>\n",
       "      <td>0</td>\n",
       "      <td>0</td>\n",
       "      <td>0</td>\n",
       "      <td>0</td>\n",
       "      <td>0</td>\n",
       "      <td>...</td>\n",
       "      <td>0</td>\n",
       "      <td>0</td>\n",
       "      <td>0</td>\n",
       "      <td>0</td>\n",
       "      <td>0</td>\n",
       "      <td>0</td>\n",
       "      <td>0</td>\n",
       "      <td>0</td>\n",
       "      <td>0</td>\n",
       "      <td>0</td>\n",
       "    </tr>\n",
       "    <tr>\n",
       "      <th>1998</th>\n",
       "      <td>109</td>\n",
       "      <td>0</td>\n",
       "      <td>0</td>\n",
       "      <td>0</td>\n",
       "      <td>0</td>\n",
       "      <td>0</td>\n",
       "      <td>0</td>\n",
       "      <td>0</td>\n",
       "      <td>0</td>\n",
       "      <td>0</td>\n",
       "      <td>...</td>\n",
       "      <td>0</td>\n",
       "      <td>0</td>\n",
       "      <td>0</td>\n",
       "      <td>0</td>\n",
       "      <td>0</td>\n",
       "      <td>0</td>\n",
       "      <td>0</td>\n",
       "      <td>0</td>\n",
       "      <td>0</td>\n",
       "      <td>0</td>\n",
       "    </tr>\n",
       "    <tr>\n",
       "      <th>1999</th>\n",
       "      <td>50</td>\n",
       "      <td>0</td>\n",
       "      <td>0</td>\n",
       "      <td>0</td>\n",
       "      <td>0</td>\n",
       "      <td>0</td>\n",
       "      <td>0</td>\n",
       "      <td>0</td>\n",
       "      <td>0</td>\n",
       "      <td>0</td>\n",
       "      <td>...</td>\n",
       "      <td>0</td>\n",
       "      <td>0</td>\n",
       "      <td>0</td>\n",
       "      <td>0</td>\n",
       "      <td>0</td>\n",
       "      <td>0</td>\n",
       "      <td>0</td>\n",
       "      <td>0</td>\n",
       "      <td>0</td>\n",
       "      <td>0</td>\n",
       "    </tr>\n",
       "  </tbody>\n",
       "</table>\n",
       "<p>2000 rows × 10640 columns</p>\n",
       "</div>"
      ],
      "text/plain": [
       "      chiang  rai  military     husband  c  finance  doctor  live  two  ...  \\\n",
       "0        105    0         0  0        0  0        0       0     0    0  ...   \n",
       "1          3    0         0  0        0  0        0       0     0    0  ...   \n",
       "2         91    0         0  0        0  0        0       0     0    0  ...   \n",
       "3         91    0         0  0        0  0        0       0     0    0  ...   \n",
       "4          6    0         0  0        0  0        0       0     0    0  ...   \n",
       "...      ...  ...       ... ..      ... ..      ...     ...   ...  ...  ...   \n",
       "1995      20    0         0  0        0  0        0       0     0    0  ...   \n",
       "1996       5    0         0  0        0  0        0       0     0    0  ...   \n",
       "1997       2    0         0  0        0  0        0       0     0    0  ...   \n",
       "1998     109    0         0  0        0  0        0       0     0    0  ...   \n",
       "1999      50    0         0  0        0  0        0       0     0    0  ...   \n",
       "\n",
       "      audiences  sutton  culture  pal  formats  palm  mooresource  ordering  \\\n",
       "0             0       0        0    0        0     0            0         0   \n",
       "1             0       0        0    0        0     0            0         0   \n",
       "2             0       0        0    0        0     0            0         0   \n",
       "3             0       0        0    0        0     0            0         0   \n",
       "4             0       0        0    0        0     0            0         0   \n",
       "...         ...     ...      ...  ...      ...   ...          ...       ...   \n",
       "1995          0       0        0    0        0     0            0         0   \n",
       "1996          0       0        0    0        0     0            0         0   \n",
       "1997          0       0        0    0        0     0            0         0   \n",
       "1998          0       0        0    0        0     0            0         0   \n",
       "1999          0       0        0    0        0     0            0         0   \n",
       "\n",
       "      tagg  flowed  \n",
       "0        0       0  \n",
       "1        0       0  \n",
       "2        0       0  \n",
       "3        0       0  \n",
       "4        0       0  \n",
       "...    ...     ...  \n",
       "1995     0       0  \n",
       "1996     0       0  \n",
       "1997     0       0  \n",
       "1998     0       0  \n",
       "1999     0       0  \n",
       "\n",
       "[2000 rows x 10640 columns]"
      ]
     },
     "execution_count": 18,
     "metadata": {},
     "output_type": "execute_result"
    }
   ],
   "source": [
    "# crear modelo bag-of-words \n",
    "EnronSpamBag = assemble_bag(raw_data)\n",
    "# la siguiente es la lista de palabras en nuestro modelo bag-of-words\n",
    "predictors = [column for column in EnronSpamBag.columns]\n",
    "EnronSpamBag # despliegue el modelo para el usuario"
   ]
  },
  {
   "cell_type": "code",
   "execution_count": 19,
   "metadata": {
    "execution": {
     "iopub.execute_input": "2024-09-20T05:38:43.965487Z",
     "iopub.status.busy": "2024-09-20T05:38:43.965029Z",
     "iopub.status.idle": "2024-09-20T05:38:44.051609Z",
     "shell.execute_reply": "2024-09-20T05:38:44.050337Z",
     "shell.execute_reply.started": "2024-09-20T05:38:43.965442Z"
    }
   },
   "outputs": [
    {
     "name": "stdout",
     "output_type": "stream",
     "text": [
      "detalles de train_x/train_y, para asegurar que tengan la forma correcta:\n",
      "1400\n",
      "[[ 84   0   0 ...   0   0   0]\n",
      " [ 24   0   0 ...   0   0   0]\n",
      " [105   0   0 ...   0   0   0]\n",
      " ...\n",
      " [  3   0   0 ...   0   0   0]\n",
      " [ 97   0   0 ...   0   0   0]\n",
      " [ 15   0   0 ...   0   0   0]]\n",
      "[1 0 1 0 0]\n",
      "1400\n"
     ]
    }
   ],
   "source": [
    "# hacer un shuffle inicial del raw data\n",
    "def unison_shuffle_data(data, header):\n",
    "    p = np.random.permutation(len(header))\n",
    "    data = data[p,:]\n",
    "    header = np.asarray(header)[p]\n",
    "    return data, header\n",
    "data, header = unison_shuffle_data(EnronSpamBag.values, header)\n",
    "\n",
    "# dividir en conjuntos independientes \n",
    "idx = int(0.7*data.shape[0])\n",
    "\n",
    "# 70% de datos para training\n",
    "train_x = data[:idx,:]\n",
    "train_y = header[:idx]\n",
    "# # restante 30% para testing\n",
    "test_x = data[idx:,:]\n",
    "test_y = header[idx:] \n",
    "\n",
    "print(\"detalles de train_x/train_y, para asegurar que tengan la forma correcta:\")\n",
    "print(len(train_x))\n",
    "print(train_x)\n",
    "print(train_y[:5])\n",
    "print(len(train_y))"
   ]
  },
  {
   "cell_type": "markdown",
   "metadata": {},
   "source": [
    "Como 70% de 2000 es 1400, !se ve bien! (para Nsamp=1000)\n",
    "\n",
    "¡Sigamos!"
   ]
  },
  {
   "cell_type": "markdown",
   "metadata": {},
   "source": [
    "# Clasificador de Regresión Logística"
   ]
  },
  {
   "cell_type": "code",
   "execution_count": 20,
   "metadata": {
    "execution": {
     "iopub.execute_input": "2024-09-20T05:39:23.265388Z",
     "iopub.status.busy": "2024-09-20T05:39:23.264303Z",
     "iopub.status.idle": "2024-09-20T05:39:25.035470Z",
     "shell.execute_reply": "2024-09-20T05:39:25.034441Z",
     "shell.execute_reply.started": "2024-09-20T05:39:23.265339Z"
    }
   },
   "outputs": [],
   "source": [
    "from sklearn.linear_model import LogisticRegression\n",
    "\n",
    "def fit(train_x,train_y):\n",
    "    model = LogisticRegression()\n",
    "\n",
    "    try:\n",
    "        model.fit(train_x, train_y)\n",
    "    except:\n",
    "        pass\n",
    "    return model\n",
    "\n",
    "model = fit(train_x,train_y)"
   ]
  },
  {
   "cell_type": "code",
   "execution_count": 21,
   "metadata": {
    "execution": {
     "iopub.execute_input": "2024-09-20T05:40:10.853758Z",
     "iopub.status.busy": "2024-09-20T05:40:10.853109Z",
     "iopub.status.idle": "2024-09-20T05:40:10.889220Z",
     "shell.execute_reply": "2024-09-20T05:40:10.887702Z",
     "shell.execute_reply.started": "2024-09-20T05:40:10.853709Z"
    }
   },
   "outputs": [
    {
     "name": "stdout",
     "output_type": "stream",
     "text": [
      "DEBUG:: Los labels completos de regresión logística son:\n",
      "[1 0 0 0 0 1 1 1 1 1 1 0 1 0 1 0 0 1 1 1 1 1 0 0 0 1 1 0 0 0 1 1 1 0 1 1 1\n",
      " 1 0 1 0 0 1 0 0 0 0 1 0 0 0 0 1 1 0 1 1 1 1 0 0 1 0 0 0 0 1 0 0 1 1 0 0 1\n",
      " 1 1 1 0 1 1 0 0 1 1 1 1 0 0 0 0 0 0 1 1 1 1 0 0 1 0 1 1 1 1 1 1 1 0 0 1 1\n",
      " 0 1 1 1 0 1 0 0 1 1 0 0 1 1 0 1 0 1 0 1 0 1 1 1 1 1 0 1 1 1 1 1 0 1 1 0 1\n",
      " 0 1 1 0 1 1 0 1 0 1 1 0 1 0 0 0 1 1 1 1 1 1 0 1 1 1 1 1 1 1 1 1 1 0 1 1 0\n",
      " 1 1 0 1 1 1 1 0 1 1 1 0 1 1 1 0 1 1 1 0 1 0 1 1 1 1 1 0 0 1 1 1 1 1 0 0 1\n",
      " 0 1 1 0 0 1 1 0 1 1 1 1 0 1 1 1 1 1 1 1 1 0 1 0 1 1 0 0 0 1 0 1 1 1 1 1 0\n",
      " 1 1 0 0 1 0 1 0 1 1 1 1 1 1 1 1 0 1 0 1 1 0 1 0 1 0 1 0 1 1 1 1 1 1 1 1 1\n",
      " 1 1 1 1 0 1 1 0 1 1 0 1 0 1 0 1 0 0 0 1 1 1 1 1 1 0 0 0 1 1 1 0 1 0 1 1 1\n",
      " 1 0 1 1 1 0 1 1 0 1 1 1 0 1 1 0 1 1 0 1 1 0 1 1 0 1 0 1 0 1 1 1 1 1 1 0 1\n",
      " 0 1 0 1 0 1 1 1 1 1 1 1 1 0 1 1 1 0 1 0 0 1 0 0 1 1 1 0 1 0 0 1 1 1 1 0 0\n",
      " 0 1 1 1 1 1 0 0 1 0 1 1 1 0 1 1 1 1 0 0 1 1 0 0 1 0 1 1 0 0 0 1 0 0 1 0 0\n",
      " 1 0 1 0 1 1 1 0 0 1 0 0 0 0 0 0 1 1 1 1 1 1 0 0 0 0 1 1 1 0 1 1 0 0 1 1 0\n",
      " 0 0 1 1 1 0 0 1 0 1 0 1 1 0 0 1 1 1 0 0 1 0 1 1 0 1 0 0 0 0 1 1 0 1 1 0 1\n",
      " 1 1 0 1 0 1 0 1 1 1 0 0 1 1 0 0 1 1 1 0 1 1 0 1 0 0 0 1 1 1 1 1 1 0 1 1 0\n",
      " 0 0 0 1 1 1 1 1 0 1 0 1 0 0 1 1 1 0 1 1 1 0 0 1 0 1 0 0 1 1 1 1 1 0 0 0 1\n",
      " 1 0 0 1 1 0 1 0]\n"
     ]
    }
   ],
   "source": [
    "predicted_labels = model.predict(test_x)\n",
    "\n",
    "# imprimir todos los labels para transparencia completa\n",
    "print(\"DEBUG:: Los labels completos de regresión logística son:\")\n",
    "print(predicted_labels)"
   ]
  },
  {
   "cell_type": "code",
   "execution_count": 22,
   "metadata": {
    "execution": {
     "iopub.execute_input": "2024-09-20T05:40:47.240963Z",
     "iopub.status.busy": "2024-09-20T05:40:47.240520Z",
     "iopub.status.idle": "2024-09-20T05:40:47.249231Z",
     "shell.execute_reply": "2024-09-20T05:40:47.248055Z",
     "shell.execute_reply.started": "2024-09-20T05:40:47.240920Z"
    }
   },
   "outputs": [
    {
     "name": "stdout",
     "output_type": "stream",
     "text": [
      "DEBUG::El accuracy score de regresión logística es::\n",
      "0.6466666666666666\n"
     ]
    }
   ],
   "source": [
    "from sklearn.metrics import accuracy_score\n",
    "\n",
    "acc_score = accuracy_score(test_y, predicted_labels)\n",
    "\n",
    "print(\"DEBUG::El accuracy score de regresión logística es::\")\n",
    "print(acc_score)"
   ]
  },
  {
   "cell_type": "markdown",
   "metadata": {},
   "source": [
    "# Clasificador de Support Vector Machine"
   ]
  },
  {
   "cell_type": "code",
   "execution_count": 23,
   "metadata": {
    "execution": {
     "iopub.execute_input": "2024-09-20T05:41:21.031195Z",
     "iopub.status.busy": "2024-09-20T05:41:21.030056Z",
     "iopub.status.idle": "2024-09-20T05:41:21.036186Z",
     "shell.execute_reply": "2024-09-20T05:41:21.034905Z",
     "shell.execute_reply.started": "2024-09-20T05:41:21.031142Z"
    }
   },
   "outputs": [],
   "source": [
    "import time\n",
    "from sklearn.svm import SVC # modelo de Support Vector Classification"
   ]
  },
  {
   "cell_type": "code",
   "execution_count": 24,
   "metadata": {
    "execution": {
     "iopub.execute_input": "2024-09-20T05:42:12.357043Z",
     "iopub.status.busy": "2024-09-20T05:42:12.355801Z",
     "iopub.status.idle": "2024-09-20T05:43:18.794569Z",
     "shell.execute_reply": "2024-09-20T05:43:18.793299Z",
     "shell.execute_reply.started": "2024-09-20T05:42:12.356967Z"
    }
   },
   "outputs": [
    {
     "name": "stdout",
     "output_type": "stream",
     "text": [
      "Entrenar el Clasificador SVC tomó  56 segundos\n",
      "DEBUG::Las labels del Clasificador SVC son::\n",
      "[1 0 0 0 0 1 1 1 0 1 1 0 1 0 1 0 0 1 1 1 1 1 0 0 0 0 1 0 0 0 1 1 1 0 1 1 1\n",
      " 1 0 1 0 0 1 0 1 0 0 1 0 0 0 0 1 1 0 1 1 1 1 0 0 1 1 1 0 0 1 0 0 1 1 0 1 1\n",
      " 1 1 0 0 1 1 0 0 1 1 1 1 0 0 0 1 0 1 1 1 1 1 0 1 1 0 1 1 1 1 1 1 1 0 1 1 1\n",
      " 0 1 1 1 1 1 0 0 1 0 0 0 1 0 0 1 0 1 1 1 0 0 1 1 1 1 0 1 1 1 1 1 0 1 1 0 1\n",
      " 0 1 1 0 0 1 0 0 0 1 1 0 1 0 0 0 1 1 1 1 1 1 0 1 0 1 1 1 1 1 1 1 1 0 1 1 0\n",
      " 1 1 1 1 1 1 1 0 1 1 1 0 1 0 1 0 1 1 1 0 0 0 1 1 1 1 1 1 0 1 1 1 1 1 0 1 1\n",
      " 0 1 1 0 0 1 1 0 1 1 1 1 0 1 1 0 1 1 1 1 1 1 1 0 1 1 0 0 0 1 1 1 0 1 1 1 0\n",
      " 1 1 0 0 1 0 0 0 1 1 1 1 1 1 1 1 0 1 0 1 1 1 1 0 1 0 1 0 1 1 1 1 1 1 1 1 1\n",
      " 1 1 1 1 0 1 1 0 1 1 0 1 1 1 1 1 0 0 0 1 1 0 1 1 1 0 0 0 1 1 1 0 1 0 1 1 1\n",
      " 1 0 1 1 1 0 1 1 0 1 1 1 0 1 1 0 1 1 0 1 1 0 1 1 0 1 0 1 0 1 1 1 1 1 1 0 1\n",
      " 0 1 0 1 0 0 1 1 0 1 1 1 1 1 1 1 1 0 1 0 0 1 0 0 1 1 1 0 1 0 0 1 1 1 1 0 0\n",
      " 1 1 1 1 1 1 0 0 1 0 1 1 1 1 1 1 1 0 0 0 1 1 0 0 1 0 1 1 0 0 1 1 0 0 1 0 0\n",
      " 1 0 1 0 1 1 1 0 0 1 0 0 0 0 0 0 1 0 1 1 1 1 0 0 0 0 1 1 1 0 1 1 0 0 1 1 0\n",
      " 0 0 1 0 1 0 0 1 0 1 0 1 1 0 0 1 1 1 0 0 1 0 1 1 0 1 0 0 0 1 1 0 0 1 1 0 1\n",
      " 1 1 0 1 0 1 0 0 1 1 1 0 1 0 0 0 1 1 1 0 1 1 0 1 0 0 0 1 1 1 1 1 1 0 1 0 0\n",
      " 1 0 0 1 1 1 1 1 0 1 0 1 0 0 1 1 1 0 1 1 1 0 0 1 0 1 0 0 1 1 0 0 1 0 0 0 1\n",
      " 1 0 0 1 1 0 1 0]\n",
      "DEBUG::El accuracy score del Clasificador SVC es::\n",
      "0.695\n"
     ]
    }
   ],
   "source": [
    "# Crear un clasificador de soporte vectorial\n",
    "clf = SVC(C=1, gamma=\"auto\", probability=True)\n",
    "\n",
    "# Ajustar el clasificador usando datos de entrenamiento\n",
    "start_time = time.time()\n",
    "clf.fit(train_x, train_y)\n",
    "end_time = time.time()\n",
    "print(\"Entrenar el Clasificador SVC tomó %3d segundos\"%(end_time-start_time))\n",
    "\n",
    "predicted_labels = clf.predict(test_x)\n",
    "print(\"DEBUG::Las labels del Clasificador SVC son::\")\n",
    "print(predicted_labels)\n",
    "\n",
    "acc_score = accuracy_score(test_y, predicted_labels)\n",
    "\n",
    "print(\"DEBUG::El accuracy score del Clasificador SVC es::\")\n",
    "print(acc_score)"
   ]
  },
  {
   "cell_type": "markdown",
   "metadata": {},
   "source": [
    "# Random Forests"
   ]
  },
  {
   "cell_type": "code",
   "execution_count": 25,
   "metadata": {
    "execution": {
     "iopub.execute_input": "2024-09-20T05:44:51.574063Z",
     "iopub.status.busy": "2024-09-20T05:44:51.573620Z",
     "iopub.status.idle": "2024-09-20T05:45:04.322048Z",
     "shell.execute_reply": "2024-09-20T05:45:04.320566Z",
     "shell.execute_reply.started": "2024-09-20T05:44:51.574021Z"
    }
   },
   "outputs": [
    {
     "name": "stdout",
     "output_type": "stream",
     "text": [
      "Entrenar el Random Forest Classifier tomó  12 segundos\n",
      "DEBUG::Las etiquetas RF predecidas son::\n",
      "[1 0 0 1 0 1 1 1 0 0 0 0 1 1 1 0 1 1 1 1 1 1 0 0 0 1 1 1 0 0 1 1 1 0 1 0 1\n",
      " 1 0 1 0 0 1 0 1 1 1 1 1 0 0 0 1 1 0 1 1 1 1 0 0 1 0 1 1 0 1 0 0 1 0 0 1 0\n",
      " 1 1 0 0 1 1 1 0 0 1 1 0 0 0 1 0 0 1 1 0 1 1 1 0 1 0 1 1 1 1 1 0 1 0 0 1 1\n",
      " 0 1 1 1 1 1 0 0 1 0 0 0 1 0 0 1 0 0 0 1 0 0 1 1 1 1 0 1 1 1 0 1 1 1 1 0 1\n",
      " 0 1 0 0 0 1 1 0 0 1 0 0 0 0 1 0 0 1 1 1 1 0 0 1 0 1 1 1 1 1 1 0 1 1 1 1 0\n",
      " 1 1 1 1 1 1 1 0 1 1 0 1 0 0 1 0 1 1 1 0 1 0 1 1 0 1 1 1 0 1 0 1 0 1 0 1 1\n",
      " 0 1 0 0 1 1 1 0 1 1 1 1 0 0 1 1 1 1 1 0 1 1 1 0 0 1 0 0 0 1 0 1 0 1 1 1 0\n",
      " 0 1 0 0 1 0 0 0 1 1 1 1 1 1 1 1 0 1 1 1 1 1 1 0 1 0 1 0 1 1 1 1 1 1 1 1 1\n",
      " 1 1 1 1 1 0 1 0 1 1 1 1 0 1 0 1 0 0 0 1 1 1 1 1 1 1 0 1 1 1 1 0 0 0 1 0 1\n",
      " 1 0 1 0 0 1 1 1 0 1 1 1 0 1 1 0 1 1 1 1 1 0 1 0 1 1 0 1 1 1 1 1 1 1 0 0 1\n",
      " 0 1 1 1 0 0 1 0 0 1 1 1 1 1 1 1 1 0 1 0 0 1 0 0 1 1 1 1 1 0 0 1 0 0 0 0 0\n",
      " 1 1 0 1 1 1 1 0 1 0 1 1 0 1 0 1 1 0 0 0 1 1 0 0 1 0 1 1 1 0 0 1 1 0 1 0 0\n",
      " 1 0 1 0 1 1 1 1 0 1 0 0 0 0 0 0 1 0 1 1 0 1 0 1 0 0 1 1 0 0 1 1 0 0 1 1 0\n",
      " 0 0 1 0 1 0 0 1 0 1 0 1 0 0 0 1 1 0 0 1 1 0 1 0 0 1 1 0 0 1 1 1 0 1 1 0 1\n",
      " 1 1 1 1 0 1 0 0 1 1 1 1 1 0 1 0 1 0 1 0 0 1 1 1 0 0 0 0 1 1 0 1 1 0 1 1 0\n",
      " 0 0 0 1 1 1 1 1 1 1 1 1 0 0 1 1 1 0 0 1 1 0 0 0 0 1 0 0 1 1 1 0 0 0 0 0 1\n",
      " 1 0 0 1 0 1 1 0]\n",
      "DEBUG::El RF testing accuracy score es::\n",
      "0.7266666666666667\n"
     ]
    }
   ],
   "source": [
    "# Cargar el scikit's random forest classifier library\n",
    "from sklearn.ensemble import RandomForestClassifier\n",
    "\n",
    "# Create un Clasificador random forest. Por convención, clf significa 'Classifier'\n",
    "clf = RandomForestClassifier(n_jobs=1, random_state=0)\n",
    "\n",
    "# Entrenar al clasificador para que tome las características de entrenamiento y aprenda cómo se relacionan con el entrenamiento de y (spam, not spam?)\n",
    "start_time = time.time()\n",
    "clf.fit(train_x, train_y)\n",
    "end_time = time.time()\n",
    "print(\"Entrenar el Random Forest Classifier tomó %3d segundos\"%(end_time-start_time))\n",
    "\n",
    "predicted_labels = clf.predict(test_x)\n",
    "print(\"DEBUG::Las etiquetas RF predecidas son::\")\n",
    "print(predicted_labels)\n",
    "\n",
    "acc_score = accuracy_score(test_y, predicted_labels)\n",
    "\n",
    "print(\"DEBUG::El RF testing accuracy score es::\")\n",
    "print(acc_score)"
   ]
  },
  {
   "cell_type": "code",
   "execution_count": 26,
   "metadata": {
    "execution": {
     "iopub.execute_input": "2024-09-20T05:46:14.974051Z",
     "iopub.status.busy": "2024-09-20T05:46:14.973621Z",
     "iopub.status.idle": "2024-09-20T06:03:30.826658Z",
     "shell.execute_reply": "2024-09-20T06:03:30.824810Z",
     "shell.execute_reply.started": "2024-09-20T05:46:14.974007Z"
    }
   },
   "outputs": [
    {
     "name": "stdout",
     "output_type": "stream",
     "text": [
      "Available hyper-parameters for systematic tuning available with RF:\n",
      "{'bootstrap': True, 'ccp_alpha': 0.0, 'class_weight': None, 'criterion': 'gini', 'max_depth': None, 'max_features': 'sqrt', 'max_leaf_nodes': None, 'max_samples': None, 'min_impurity_decrease': 0.0, 'min_samples_leaf': 1, 'min_samples_split': 2, 'min_weight_fraction_leaf': 0.0, 'n_estimators': 100, 'n_jobs': 1, 'oob_score': False, 'random_state': 0, 'verbose': 0, 'warm_start': False}\n",
      "Fitting 3 folds for each of 27 candidates, totalling 81 fits\n",
      "Los mejores parámetros encontrados:\n",
      "{'min_samples_leaf': 3, 'min_samples_split': 10, 'n_estimators': 100}\n",
      "La accuracy estimada es:\n",
      "0.73\n",
      "[CV] END min_samples_leaf=1, min_samples_split=2, n_estimators=10; total time=   1.6s\n",
      "[CV] END min_samples_leaf=1, min_samples_split=2, n_estimators=100; total time=  14.4s\n",
      "[CV] END min_samples_leaf=1, min_samples_split=6, n_estimators=10; total time=   1.5s\n",
      "[CV] END min_samples_leaf=1, min_samples_split=6, n_estimators=10; total time=   1.4s\n",
      "[CV] END min_samples_leaf=1, min_samples_split=6, n_estimators=10; total time=   1.5s\n",
      "[CV] END min_samples_leaf=1, min_samples_split=6, n_estimators=100; total time=  13.6s\n",
      "[CV] END min_samples_leaf=1, min_samples_split=6, n_estimators=100; total time=  13.4s\n",
      "[CV] END min_samples_leaf=1, min_samples_split=6, n_estimators=100; total time=  13.1s\n",
      "[CV] END min_samples_leaf=1, min_samples_split=6, n_estimators=1000; total time= 2.2min\n",
      "[CV] END min_samples_leaf=1, min_samples_split=10, n_estimators=1000; total time= 2.1min\n",
      "[CV] END min_samples_leaf=2, min_samples_split=2, n_estimators=100; total time=  14.5s\n",
      "[CV] END min_samples_leaf=2, min_samples_split=2, n_estimators=1000; total time= 2.3min\n",
      "[CV] END min_samples_leaf=2, min_samples_split=10, n_estimators=10; total time=   1.4s\n",
      "[CV] END min_samples_leaf=2, min_samples_split=10, n_estimators=10; total time=   1.4s\n",
      "[CV] END min_samples_leaf=2, min_samples_split=10, n_estimators=10; total time=   1.4s\n",
      "[CV] END min_samples_leaf=2, min_samples_split=10, n_estimators=100; total time=  13.4s\n",
      "[CV] END min_samples_leaf=2, min_samples_split=10, n_estimators=100; total time=  12.8s\n",
      "[CV] END min_samples_leaf=2, min_samples_split=10, n_estimators=100; total time=  12.7s\n",
      "[CV] END min_samples_leaf=2, min_samples_split=10, n_estimators=1000; total time= 2.2min\n",
      "[CV] END min_samples_leaf=3, min_samples_split=2, n_estimators=1000; total time= 2.3min\n",
      "[CV] END min_samples_leaf=3, min_samples_split=6, n_estimators=1000; total time= 2.3min\n"
     ]
    }
   ],
   "source": [
    "# Ahora, ajuste los parámetros sistemáticamente\n",
    "from sklearn.model_selection import GridSearchCV\n",
    "\n",
    "print(\"Available hyper-parameters for systematic tuning available with RF:\")\n",
    "print(clf.get_params())\n",
    "\n",
    "## seleccione un subconjunto de parámetros a ajustar, y especifique grid para cada uno\n",
    "param_grid = {\n",
    "    'min_samples_leaf': [1, 2, 3],\n",
    "    'min_samples_split': [2, 6, 10],\n",
    "    'n_estimators': [10, 100, 1000]\n",
    "}\n",
    "grid_search = GridSearchCV(estimator = clf, param_grid = param_grid, \n",
    "                          cv = 3, n_jobs = -1, verbose = 2)\n",
    "\n",
    "# Ajuste la búsqueda de grid a los datos\n",
    "grid_search.fit(train_x, train_y)\n",
    "\n",
    "print(\"Los mejores parámetros encontrados:\")\n",
    "print(grid_search.best_params_)\n",
    "\n",
    "print(\"La accuracy estimada es:\")\n",
    "acc_score = accuracy_score(test_y, grid_search.best_estimator_.predict(test_x))\n",
    "print(acc_score)"
   ]
  },
  {
   "cell_type": "markdown",
   "metadata": {},
   "source": [
    "# Máquinas Gradient Boosting "
   ]
  },
  {
   "cell_type": "code",
   "execution_count": 27,
   "metadata": {
    "execution": {
     "iopub.execute_input": "2024-09-20T06:07:48.303479Z",
     "iopub.status.busy": "2024-09-20T06:07:48.303000Z",
     "iopub.status.idle": "2024-09-20T06:09:12.446692Z",
     "shell.execute_reply": "2024-09-20T06:09:12.445280Z",
     "shell.execute_reply.started": "2024-09-20T06:07:48.303432Z"
    }
   },
   "outputs": [
    {
     "name": "stdout",
     "output_type": "stream",
     "text": [
      "[CV] END min_samples_leaf=1, min_samples_split=2, n_estimators=10; total time=   1.6s\n",
      "[CV] END min_samples_leaf=1, min_samples_split=2, n_estimators=1000; total time= 2.4min\n",
      "[CV] END min_samples_leaf=1, min_samples_split=6, n_estimators=1000; total time= 2.3min\n",
      "[CV] END min_samples_leaf=1, min_samples_split=10, n_estimators=1000; total time= 2.2min\n",
      "[CV] END min_samples_leaf=2, min_samples_split=6, n_estimators=10; total time=   1.5s\n",
      "[CV] END min_samples_leaf=2, min_samples_split=6, n_estimators=10; total time=   1.4s\n",
      "[CV] END min_samples_leaf=2, min_samples_split=6, n_estimators=10; total time=   1.4s\n",
      "[CV] END min_samples_leaf=2, min_samples_split=6, n_estimators=100; total time=  13.7s\n",
      "[CV] END min_samples_leaf=2, min_samples_split=6, n_estimators=100; total time=  13.5s\n",
      "[CV] END min_samples_leaf=2, min_samples_split=6, n_estimators=100; total time=  14.1s\n",
      "[CV] END min_samples_leaf=2, min_samples_split=6, n_estimators=1000; total time= 2.3min\n",
      "[CV] END min_samples_leaf=2, min_samples_split=10, n_estimators=1000; total time= 2.2min\n",
      "[CV] END min_samples_leaf=3, min_samples_split=2, n_estimators=1000; total time= 2.2min\n",
      "[CV] END min_samples_leaf=3, min_samples_split=10, n_estimators=10; total time=   1.4s\n",
      "[CV] END min_samples_leaf=3, min_samples_split=10, n_estimators=10; total time=   1.4s\n",
      "[CV] END min_samples_leaf=3, min_samples_split=10, n_estimators=10; total time=   1.5s\n",
      "[CV] END min_samples_leaf=3, min_samples_split=10, n_estimators=100; total time=  13.1s\n",
      "[CV] END min_samples_leaf=3, min_samples_split=10, n_estimators=100; total time=  13.3s\n",
      "[CV] END min_samples_leaf=3, min_samples_split=10, n_estimators=100; total time=  12.9s\n",
      "[CV] END min_samples_leaf=3, min_samples_split=10, n_estimators=1000; total time= 1.8min\n",
      "[CV] END min_samples_leaf=1, min_samples_split=2, n_estimators=10; total time=   1.5s\n",
      "[CV] END min_samples_leaf=1, min_samples_split=2, n_estimators=100; total time=  14.2s\n",
      "[CV] END min_samples_leaf=1, min_samples_split=2, n_estimators=1000; total time= 2.4min\n",
      "[CV] END min_samples_leaf=1, min_samples_split=10, n_estimators=10; total time=   1.4s\n",
      "[CV] END min_samples_leaf=1, min_samples_split=10, n_estimators=10; total time=   1.4s\n",
      "[CV] END min_samples_leaf=1, min_samples_split=10, n_estimators=10; total time=   1.8s\n",
      "[CV] END min_samples_leaf=1, min_samples_split=10, n_estimators=100; total time=  13.2s\n",
      "[CV] END min_samples_leaf=1, min_samples_split=10, n_estimators=100; total time=  12.9s\n",
      "[CV] END min_samples_leaf=1, min_samples_split=10, n_estimators=100; total time=  13.0s\n",
      "[CV] END min_samples_leaf=1, min_samples_split=10, n_estimators=1000; total time= 2.2min\n",
      "[CV] END min_samples_leaf=2, min_samples_split=2, n_estimators=1000; total time= 2.3min\n",
      "[CV] END min_samples_leaf=2, min_samples_split=6, n_estimators=1000; total time= 2.3min\n",
      "[CV] END min_samples_leaf=3, min_samples_split=2, n_estimators=10; total time=   1.5s\n",
      "[CV] END min_samples_leaf=3, min_samples_split=2, n_estimators=10; total time=   1.5s\n",
      "[CV] END min_samples_leaf=3, min_samples_split=2, n_estimators=10; total time=   1.5s\n",
      "[CV] END min_samples_leaf=3, min_samples_split=2, n_estimators=100; total time=  13.4s\n",
      "[CV] END min_samples_leaf=3, min_samples_split=2, n_estimators=100; total time=  13.5s\n",
      "[CV] END min_samples_leaf=3, min_samples_split=2, n_estimators=100; total time=  13.4s\n",
      "[CV] END min_samples_leaf=3, min_samples_split=2, n_estimators=1000; total time= 2.2min\n",
      "[CV] END min_samples_leaf=3, min_samples_split=6, n_estimators=1000; total time= 2.3min\n",
      "[CV] END min_samples_leaf=3, min_samples_split=10, n_estimators=1000; total time= 1.6min\n",
      "[CV] END min_samples_leaf=1, min_samples_split=2, n_estimators=100; total time=  14.2s\n",
      "[CV] END min_samples_leaf=1, min_samples_split=2, n_estimators=1000; total time= 2.4min\n",
      "[CV] END min_samples_leaf=1, min_samples_split=6, n_estimators=1000; total time= 2.3min\n",
      "[CV] END min_samples_leaf=2, min_samples_split=2, n_estimators=10; total time=   1.6s\n",
      "[CV] END min_samples_leaf=2, min_samples_split=2, n_estimators=10; total time=   1.6s\n",
      "[CV] END min_samples_leaf=2, min_samples_split=2, n_estimators=10; total time=   1.5s\n",
      "[CV] END min_samples_leaf=2, min_samples_split=2, n_estimators=100; total time=  14.2s\n",
      "[CV] END min_samples_leaf=2, min_samples_split=2, n_estimators=100; total time=  14.4s\n",
      "[CV] END min_samples_leaf=2, min_samples_split=2, n_estimators=1000; total time= 2.3min\n",
      "[CV] END min_samples_leaf=2, min_samples_split=6, n_estimators=1000; total time= 2.3min\n",
      "[CV] END min_samples_leaf=2, min_samples_split=10, n_estimators=1000; total time= 2.2min\n",
      "[CV] END min_samples_leaf=3, min_samples_split=6, n_estimators=10; total time=   1.4s\n",
      "[CV] END min_samples_leaf=3, min_samples_split=6, n_estimators=10; total time=   1.5s\n",
      "[CV] END min_samples_leaf=3, min_samples_split=6, n_estimators=10; total time=   1.5s\n",
      "[CV] END min_samples_leaf=3, min_samples_split=6, n_estimators=100; total time=  13.3s\n",
      "[CV] END min_samples_leaf=3, min_samples_split=6, n_estimators=100; total time=  13.5s\n",
      "[CV] END min_samples_leaf=3, min_samples_split=6, n_estimators=100; total time=  13.5s\n",
      "[CV] END min_samples_leaf=3, min_samples_split=6, n_estimators=1000; total time= 2.3min\n",
      "[CV] END min_samples_leaf=3, min_samples_split=10, n_estimators=1000; total time= 1.8min\n",
      "\n",
      "Model Report\n",
      "Accuracy : 0.7579\n",
      "AUC Score (Train): 0.828813\n",
      "CV Score : Mean - 0.7794516 | Std - 0.02382457 | Min - 0.7538273 | Max - 0.8174907\n",
      "El entrenamiento del Gradient Boosting Classifier tomó  84 segundos\n",
      "DEBUG::Los labels predecidos de Gradient Boosting son::\n",
      "[1 0 0 1 0 1 1 1 0 0 1 0 1 1 1 0 1 1 1 1 1 1 0 0 0 1 1 1 0 0 1 1 1 0 1 0 1\n",
      " 1 0 1 0 0 1 0 1 1 1 1 1 0 0 0 1 1 0 1 1 1 1 0 0 1 0 1 1 0 1 0 0 1 0 0 1 0\n",
      " 1 1 0 0 1 1 1 0 0 1 1 0 0 0 1 0 0 1 1 0 1 1 1 0 1 0 1 1 1 1 1 1 1 0 0 1 1\n",
      " 0 1 1 1 1 1 0 0 1 0 0 0 1 0 0 1 0 0 0 1 0 0 1 1 1 1 0 1 1 1 0 1 1 1 1 0 1\n",
      " 0 1 1 0 0 1 1 0 0 1 1 0 0 0 1 0 0 1 1 1 1 1 0 1 0 1 1 1 1 1 1 0 1 1 1 1 0\n",
      " 1 1 1 1 1 1 1 0 1 1 0 1 0 0 1 0 1 1 1 0 0 0 1 1 0 1 1 1 0 1 0 1 0 1 0 1 1\n",
      " 0 1 0 0 1 1 1 0 1 1 1 1 0 0 1 0 1 1 1 0 1 1 1 0 0 1 0 0 0 1 0 1 0 1 1 1 0\n",
      " 1 1 0 0 1 0 0 0 1 1 1 1 1 1 1 1 0 1 1 1 1 1 1 0 1 0 1 0 1 1 1 1 1 1 1 1 1\n",
      " 1 1 1 1 1 0 1 0 1 1 0 1 0 1 0 1 0 0 0 1 1 0 1 1 1 1 0 1 1 1 1 0 0 0 1 0 1\n",
      " 1 0 1 0 1 1 1 1 0 1 1 1 0 1 1 0 1 1 1 1 1 0 1 0 1 1 0 1 1 1 1 1 1 1 0 0 1\n",
      " 0 1 1 1 0 0 1 0 0 1 1 1 1 1 1 1 1 0 1 0 0 1 0 0 1 1 1 1 1 0 0 1 0 0 0 0 0\n",
      " 1 1 0 1 1 1 1 0 1 0 1 1 1 1 1 1 1 0 0 0 1 1 0 0 1 0 1 1 1 0 0 1 0 0 1 0 0\n",
      " 1 0 1 0 1 1 1 1 0 1 0 0 0 0 0 0 1 0 1 1 0 1 0 1 0 0 1 1 1 0 1 1 0 0 1 1 0\n",
      " 0 0 1 0 1 0 0 1 0 1 0 1 0 0 0 1 1 0 0 1 1 0 1 0 0 1 1 0 0 1 1 0 0 1 1 0 1\n",
      " 1 1 1 1 0 1 0 0 1 1 1 1 1 0 1 0 1 0 1 0 1 1 1 1 0 0 0 0 1 1 0 1 1 0 1 1 0\n",
      " 0 0 0 1 1 1 1 1 1 1 1 1 0 0 1 1 1 0 0 1 1 0 0 0 0 1 0 0 1 1 0 0 0 0 0 0 1\n",
      " 1 0 0 1 0 1 1 0]\n",
      "DEBUG::El testing accuracy score de Gradient Boosting es::\n",
      "0.7333333333333333\n"
     ]
    }
   ],
   "source": [
    "from sklearn.ensemble import GradientBoostingClassifier  # algoritmo GBM \n",
    "from sklearn import metrics   #Funciones scklearn adicionales\n",
    "from sklearn.model_selection import cross_val_score, GridSearchCV\n",
    "\n",
    "def modelfit(alg, train_x, train_y, predictors, test_x, performCV=True, printFeatureImportance=False, cv_folds=5):\n",
    "    #Ajuste el algoritmo a los datos\n",
    "    alg.fit(train_x, train_y)\n",
    "        \n",
    "    #Prediga conjunto de training: \n",
    "    predictions = alg.predict(train_x)\n",
    "    predprob = alg.predict_proba(train_x)[:,1]\n",
    "    \n",
    "    #Haga cross-validation:\n",
    "    if performCV:\n",
    "        cv_score = cross_val_score(alg, train_x, train_y, cv=cv_folds, scoring='roc_auc')\n",
    "    \n",
    "    #Imprima reporte de modelo:\n",
    "    print(\"\\nModel Report\")\n",
    "    print(\"Accuracy : %.4g\" % metrics.accuracy_score(train_y,predictions))\n",
    "    print(\"AUC Score (Train): %f\" % metrics.roc_auc_score(train_y, predprob))\n",
    "    \n",
    "    if performCV:\n",
    "        print(\"CV Score : Mean - %.7g | Std - %.7g | Min - %.7g | Max - %.7g\" % (np.mean(cv_score),np.std(cv_score),np.min(cv_score),np.max(cv_score)))\n",
    "        \n",
    "    #Imprimir Feature Importance:\n",
    "    if printFeatureImportance:\n",
    "        feat_imp = pd.Series(alg.feature_importances_, predictors).sort_values(ascending=False)\n",
    "        feat_imp[:10].plot(kind='bar', title='Feature Importances')\n",
    "        \n",
    "    return alg.predict(test_x),alg.predict_proba(test_x)\n",
    "        \n",
    "gbm0 = GradientBoostingClassifier(random_state=10)\n",
    "\n",
    "start_time = time.time()\n",
    "test_predictions, test_probs = modelfit(gbm0, train_x, train_y, predictors, test_x)\n",
    "end_time = time.time()\n",
    "\n",
    "print(\"El entrenamiento del Gradient Boosting Classifier tomó %3d segundos\"%(end_time-start_time))\n",
    "\n",
    "predicted_labels = test_predictions\n",
    "print(\"DEBUG::Los labels predecidos de Gradient Boosting son::\")\n",
    "print(predicted_labels)\n",
    "\n",
    "acc_score = accuracy_score(test_y, predicted_labels)\n",
    "\n",
    "print(\"DEBUG::El testing accuracy score de Gradient Boosting es::\")\n",
    "print(acc_score)"
   ]
  },
  {
   "cell_type": "code",
   "execution_count": 28,
   "metadata": {
    "execution": {
     "iopub.execute_input": "2024-09-20T06:11:07.951348Z",
     "iopub.status.busy": "2024-09-20T06:11:07.950899Z",
     "iopub.status.idle": "2024-09-20T06:11:08.276999Z",
     "shell.execute_reply": "2024-09-20T06:11:08.275630Z",
     "shell.execute_reply.started": "2024-09-20T06:11:07.951308Z"
    }
   },
   "outputs": [
    {
     "data": {
      "image/png": "[encoded data removed]",
      "text/plain": [
       "<Figure size 640x480 with 1 Axes>"
      ]
     },
     "metadata": {},
     "output_type": "display_data"
    }
   ],
   "source": [
    "# Haga una curva ROC\n",
    "test_probs_max = [] # primero encontrar las probabilidades correspondientes \n",
    "                    # a la clase más probable (máxima probabilidad)\n",
    "for i in range(test_probs.shape[0]):\n",
    "    test_probs_max.append(test_probs[i,test_y[i]])\n",
    "len(test_probs_max)\n",
    "\n",
    "# ahora, generar los datos de la curva\n",
    "fpr, tpr, thresholds = metrics.roc_curve(test_y, np.array(test_probs_max))\n",
    "\n",
    "# plot curve data\n",
    "import matplotlib.pyplot as plt\n",
    "fig,ax = plt.subplots()\n",
    "plt.plot(fpr,tpr,label='ROC curve')\n",
    "plt.plot([0, 1], [0, 1], color='navy', linestyle='--')\n",
    "plt.xlabel('False Positive Rate')\n",
    "plt.ylabel('True Positive Rate')\n",
    "plt.title('Receiver Operating Characteristic para Ejemplo de Email')\n",
    "plt.legend(loc=\"lower right\")\n",
    "plt.show()"
   ]
  },
  {
   "cell_type": "markdown",
   "metadata": {},
   "source": [
    "Now, save the image and make it downloadable, so you can use it in local documents"
   ]
  },
  {
   "cell_type": "code",
   "execution_count": 29,
   "metadata": {
    "execution": {
     "iopub.execute_input": "2024-09-20T06:11:59.344078Z",
     "iopub.status.busy": "2024-09-20T06:11:59.343642Z",
     "iopub.status.idle": "2024-09-20T06:12:00.722517Z",
     "shell.execute_reply": "2024-09-20T06:12:00.721165Z",
     "shell.execute_reply.started": "2024-09-20T06:11:59.344032Z"
    }
   },
   "outputs": [],
   "source": [
    "fig.savefig('ROC.eps', format='eps',bbox_inches='tight')\n",
    "fig.savefig('ROC.pdf', format='pdf',bbox_inches='tight')\n",
    "fig.savefig('ROC.png', format='png',bbox_inches='tight')\n",
    "fig.savefig('ROC.svg', format='svg',bbox_inches='tight')"
   ]
  },
  {
   "cell_type": "code",
   "execution_count": 30,
   "metadata": {
    "execution": {
     "iopub.execute_input": "2024-09-20T06:12:05.139678Z",
     "iopub.status.busy": "2024-09-20T06:12:05.139015Z",
     "iopub.status.idle": "2024-09-20T06:12:05.152444Z",
     "shell.execute_reply": "2024-09-20T06:12:05.151267Z",
     "shell.execute_reply.started": "2024-09-20T06:12:05.139631Z"
    }
   },
   "outputs": [
    {
     "data": {
      "text/html": [
       "<a href=ROC.svg>Download file</a>"
      ],
      "text/plain": [
       "<IPython.core.display.HTML object>"
      ]
     },
     "execution_count": 30,
     "metadata": {},
     "output_type": "execute_result"
    }
   ],
   "source": [
    "# Salvar .svg de ROC\n",
    "from IPython.display import HTML\n",
    "def create_download_link(title = \"Download file\", filename = \"ROC.svg\"):  \n",
    "    html = '<a href={filename}>{title}</a>'\n",
    "    html = html.format(title=title,filename=filename)\n",
    "    return HTML(html)\n",
    "\n",
    "create_download_link(filename='ROC.svg')"
   ]
  }
 ],
 "metadata": {
  "kaggle": {
   "accelerator": "none",
   "dataSources": [
    {
     "datasetId": 1717,
     "sourceId": 2998,
     "sourceType": "datasetVersion"
    },
    {
     "datasetId": 5729241,
     "sourceId": 9430425,
     "sourceType": "datasetVersion"
    },
    {
     "datasetId": 55,
     "sourceId": 120,
     "sourceType": "datasetVersion"
    }
   ],
   "dockerImageVersionId": 30761,
   "isGpuEnabled": false,
   "isInternetEnabled": false,
   "language": "python",
   "sourceType": "notebook"
  },
  "kernelspec": {
   "display_name": "Python 3 (ipykernel)",
   "language": "python",
   "name": "python3"
  },
  "language_info": {
   "codemirror_mode": {
    "name": "ipython",
    "version": 3
   },
   "file_extension": ".py",
   "mimetype": "text/x-python",
   "name": "python",
   "nbconvert_exporter": "python",
   "pygments_lexer": "ipython3",
   "version": "3.10.4"
  }
 },
 "nbformat": 4,
 "nbformat_minor": 4
}
